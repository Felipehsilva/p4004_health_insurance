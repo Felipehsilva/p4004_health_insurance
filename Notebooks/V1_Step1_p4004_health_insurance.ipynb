{
 "cells": [
  {
   "cell_type": "markdown",
   "id": "68d986b5",
   "metadata": {},
   "source": [
    "# 0.0. IMPORTS"
   ]
  },
  {
   "cell_type": "code",
   "execution_count": 1,
   "id": "10ebafd1",
   "metadata": {
    "ExecuteTime": {
     "end_time": "2024-06-11T12:45:59.590753Z",
     "start_time": "2024-06-11T12:45:59.100599Z"
    }
   },
   "outputs": [],
   "source": [
    "import pandas as pd   \n",
    "import inflection\n",
    "import math\n",
    "import numpy as np\n",
    "import seaborn as sns\n",
    "from IPython.core.display import HTML"
   ]
  },
  {
   "cell_type": "markdown",
   "id": "3e6cab50",
   "metadata": {},
   "source": [
    "## 0.1. Helper Functions"
   ]
  },
  {
   "cell_type": "code",
   "execution_count": 2,
   "id": "6213649f",
   "metadata": {
    "ExecuteTime": {
     "end_time": "2024-06-11T12:46:00.048160Z",
     "start_time": "2024-06-11T12:46:00.036974Z"
    }
   },
   "outputs": [
    {
     "name": "stdout",
     "output_type": "stream",
     "text": [
      "%pylab is deprecated, use %matplotlib inline and import the required libraries.\n",
      "Populating the interactive namespace from numpy and matplotlib\n"
     ]
    },
    {
     "data": {
      "text/html": [
       "<style>.container { width:100% !important; }</style>"
      ],
      "text/plain": [
       "<IPython.core.display.HTML object>"
      ]
     },
     "metadata": {},
     "output_type": "display_data"
    }
   ],
   "source": [
    "def jupyter_settings():\n",
    "    %matplotlib inline\n",
    "    %pylab inline\n",
    "    \n",
    "    plt.style.use( 'bmh' )\n",
    "    plt.rcParams['figure.figsize'] = [25, 12]\n",
    "    plt.rcParams['font.size'] = 24\n",
    "    \n",
    "    display( HTML( '<style>.container { width:100% !important; }</style>') )\n",
    "    pd.options.display.max_columns = None\n",
    "    pd.options.display.max_rows = None\n",
    "    pd.set_option( 'display.expand_frame_repr', False )\n",
    "    \n",
    "    sns.set()\n",
    "jupyter_settings()"
   ]
  },
  {
   "cell_type": "markdown",
   "id": "20ede613",
   "metadata": {},
   "source": [
    "## 0.2. Loading data"
   ]
  },
  {
   "cell_type": "code",
   "execution_count": 3,
   "id": "ae161d15",
   "metadata": {
    "ExecuteTime": {
     "end_time": "2024-06-11T12:46:02.145036Z",
     "start_time": "2024-06-11T12:46:01.837567Z"
    }
   },
   "outputs": [],
   "source": [
    "#low_memory = False fala pra função read csv ler todo o arquivo de uma vez só para a memoria\n",
    "df_insurance_raw = pd.read_csv('../Datasets/raw/train.csv',low_memory= False)"
   ]
  },
  {
   "cell_type": "markdown",
   "id": "6826876d",
   "metadata": {},
   "source": [
    "# 1.0. DATA DESCRIPTION"
   ]
  },
  {
   "cell_type": "code",
   "execution_count": 4,
   "id": "095cf995",
   "metadata": {
    "ExecuteTime": {
     "end_time": "2024-06-11T12:46:02.808270Z",
     "start_time": "2024-06-11T12:46:02.798589Z"
    }
   },
   "outputs": [],
   "source": [
    "df1 = df_insurance_raw.copy()"
   ]
  },
  {
   "cell_type": "markdown",
   "id": "3eade45e",
   "metadata": {},
   "source": [
    "## 1.1. Rename Columns"
   ]
  },
  {
   "cell_type": "code",
   "execution_count": 5,
   "id": "c5b7bffa",
   "metadata": {
    "ExecuteTime": {
     "end_time": "2024-06-11T12:46:03.598103Z",
     "start_time": "2024-06-11T12:46:03.593184Z"
    }
   },
   "outputs": [
    {
     "data": {
      "text/plain": [
       "Index(['id', 'Gender', 'Age', 'Driving_License', 'Region_Code',\n",
       "       'Previously_Insured', 'Vehicle_Age', 'Vehicle_Damage', 'Annual_Premium',\n",
       "       'Policy_Sales_Channel', 'Vintage', 'Response'],\n",
       "      dtype='object')"
      ]
     },
     "execution_count": 5,
     "metadata": {},
     "output_type": "execute_result"
    }
   ],
   "source": [
    "df1.columns"
   ]
  },
  {
   "cell_type": "code",
   "execution_count": 6,
   "id": "b1e2b228",
   "metadata": {
    "ExecuteTime": {
     "end_time": "2024-06-11T12:46:03.864988Z",
     "start_time": "2024-06-11T12:46:03.857715Z"
    }
   },
   "outputs": [
    {
     "data": {
      "text/plain": [
       "Index(['id', 'gender', 'age', 'driving_license', 'region_code',\n",
       "       'previously_insured', 'vehicle_age', 'vehicle_damage', 'annual_premium',\n",
       "       'policy_sales_channel', 'vintage', 'response'],\n",
       "      dtype='object')"
      ]
     },
     "execution_count": 6,
     "metadata": {},
     "output_type": "execute_result"
    }
   ],
   "source": [
    "cols_old = ['Id', 'Gender', 'Age', 'Driving_License', 'Region_Code',\n",
    "       'Previously_Insured', 'Vehicle_Age', 'Vehicle_Damage', 'Annual_Premium',\n",
    "       'Policy_Sales_Channel', 'Vintage', 'Response']\n",
    "\n",
    "snakecase = lambda x: inflection.underscore(x)\n",
    "cols_new = list (map(snakecase,cols_old))\n",
    "\n",
    "#rename\n",
    "df1.columns = cols_new\n",
    "df1.columns"
   ]
  },
  {
   "cell_type": "markdown",
   "id": "2f2268f8",
   "metadata": {},
   "source": [
    "## 1.2. Data Dimensions"
   ]
  },
  {
   "cell_type": "code",
   "execution_count": 7,
   "id": "aa6aca23",
   "metadata": {
    "ExecuteTime": {
     "end_time": "2024-06-11T12:46:04.579193Z",
     "start_time": "2024-06-11T12:46:04.575057Z"
    }
   },
   "outputs": [
    {
     "name": "stdout",
     "output_type": "stream",
     "text": [
      "Number of Rows: 381109\n",
      "Number of Cols: 12\n"
     ]
    }
   ],
   "source": [
    "print('Number of Rows: {}'.format(df1.shape[0]))\n",
    "print('Number of Cols: {}'.format(df1.shape[1]))"
   ]
  },
  {
   "cell_type": "markdown",
   "id": "da6a73d1",
   "metadata": {},
   "source": [
    "## 1.3. Data Types"
   ]
  },
  {
   "cell_type": "code",
   "execution_count": 15,
   "id": "eb882017",
   "metadata": {
    "ExecuteTime": {
     "end_time": "2024-06-11T12:46:25.198428Z",
     "start_time": "2024-06-11T12:46:25.191674Z"
    }
   },
   "outputs": [
    {
     "data": {
      "text/plain": [
       "id                      string[python]\n",
       "gender                  string[python]\n",
       "age                              int64\n",
       "driving_license         string[python]\n",
       "region_code             string[python]\n",
       "previously_insured      string[python]\n",
       "vehicle_age             string[python]\n",
       "vehicle_damage          string[python]\n",
       "annual_premium                 float64\n",
       "policy_sales_channel    string[python]\n",
       "vintage                          int64\n",
       "response                string[python]\n",
       "dtype: object"
      ]
     },
     "execution_count": 15,
     "metadata": {},
     "output_type": "execute_result"
    }
   ],
   "source": [
    "df1.dtypes"
   ]
  },
  {
   "cell_type": "code",
   "execution_count": 9,
   "id": "ac807126",
   "metadata": {
    "ExecuteTime": {
     "end_time": "2024-06-11T12:46:05.261538Z",
     "start_time": "2024-06-11T12:46:05.243127Z"
    }
   },
   "outputs": [
    {
     "data": {
      "text/html": [
       "<div>\n",
       "<style scoped>\n",
       "    .dataframe tbody tr th:only-of-type {\n",
       "        vertical-align: middle;\n",
       "    }\n",
       "\n",
       "    .dataframe tbody tr th {\n",
       "        vertical-align: top;\n",
       "    }\n",
       "\n",
       "    .dataframe thead th {\n",
       "        text-align: right;\n",
       "    }\n",
       "</style>\n",
       "<table border=\"1\" class=\"dataframe\">\n",
       "  <thead>\n",
       "    <tr style=\"text-align: right;\">\n",
       "      <th></th>\n",
       "      <th>id</th>\n",
       "      <th>gender</th>\n",
       "      <th>age</th>\n",
       "      <th>driving_license</th>\n",
       "      <th>region_code</th>\n",
       "      <th>previously_insured</th>\n",
       "      <th>vehicle_age</th>\n",
       "      <th>vehicle_damage</th>\n",
       "      <th>annual_premium</th>\n",
       "      <th>policy_sales_channel</th>\n",
       "      <th>vintage</th>\n",
       "      <th>response</th>\n",
       "    </tr>\n",
       "  </thead>\n",
       "  <tbody>\n",
       "    <tr>\n",
       "      <th>0</th>\n",
       "      <td>1</td>\n",
       "      <td>Male</td>\n",
       "      <td>44</td>\n",
       "      <td>1</td>\n",
       "      <td>28.0</td>\n",
       "      <td>0</td>\n",
       "      <td>&gt; 2 Years</td>\n",
       "      <td>Yes</td>\n",
       "      <td>40454.0</td>\n",
       "      <td>26.0</td>\n",
       "      <td>217</td>\n",
       "      <td>1</td>\n",
       "    </tr>\n",
       "    <tr>\n",
       "      <th>1</th>\n",
       "      <td>2</td>\n",
       "      <td>Male</td>\n",
       "      <td>76</td>\n",
       "      <td>1</td>\n",
       "      <td>3.0</td>\n",
       "      <td>0</td>\n",
       "      <td>1-2 Year</td>\n",
       "      <td>No</td>\n",
       "      <td>33536.0</td>\n",
       "      <td>26.0</td>\n",
       "      <td>183</td>\n",
       "      <td>0</td>\n",
       "    </tr>\n",
       "    <tr>\n",
       "      <th>2</th>\n",
       "      <td>3</td>\n",
       "      <td>Male</td>\n",
       "      <td>47</td>\n",
       "      <td>1</td>\n",
       "      <td>28.0</td>\n",
       "      <td>0</td>\n",
       "      <td>&gt; 2 Years</td>\n",
       "      <td>Yes</td>\n",
       "      <td>38294.0</td>\n",
       "      <td>26.0</td>\n",
       "      <td>27</td>\n",
       "      <td>1</td>\n",
       "    </tr>\n",
       "    <tr>\n",
       "      <th>3</th>\n",
       "      <td>4</td>\n",
       "      <td>Male</td>\n",
       "      <td>21</td>\n",
       "      <td>1</td>\n",
       "      <td>11.0</td>\n",
       "      <td>1</td>\n",
       "      <td>&lt; 1 Year</td>\n",
       "      <td>No</td>\n",
       "      <td>28619.0</td>\n",
       "      <td>152.0</td>\n",
       "      <td>203</td>\n",
       "      <td>0</td>\n",
       "    </tr>\n",
       "    <tr>\n",
       "      <th>4</th>\n",
       "      <td>5</td>\n",
       "      <td>Female</td>\n",
       "      <td>29</td>\n",
       "      <td>1</td>\n",
       "      <td>41.0</td>\n",
       "      <td>1</td>\n",
       "      <td>&lt; 1 Year</td>\n",
       "      <td>No</td>\n",
       "      <td>27496.0</td>\n",
       "      <td>152.0</td>\n",
       "      <td>39</td>\n",
       "      <td>0</td>\n",
       "    </tr>\n",
       "  </tbody>\n",
       "</table>\n",
       "</div>"
      ],
      "text/plain": [
       "   id  gender  age  driving_license  region_code  previously_insured vehicle_age vehicle_damage  annual_premium  policy_sales_channel  vintage  response\n",
       "0   1    Male   44                1         28.0                   0   > 2 Years            Yes         40454.0                  26.0      217         1\n",
       "1   2    Male   76                1          3.0                   0    1-2 Year             No         33536.0                  26.0      183         0\n",
       "2   3    Male   47                1         28.0                   0   > 2 Years            Yes         38294.0                  26.0       27         1\n",
       "3   4    Male   21                1         11.0                   1    < 1 Year             No         28619.0                 152.0      203         0\n",
       "4   5  Female   29                1         41.0                   1    < 1 Year             No         27496.0                 152.0       39         0"
      ]
     },
     "execution_count": 9,
     "metadata": {},
     "output_type": "execute_result"
    }
   ],
   "source": [
    "df1.head()"
   ]
  },
  {
   "cell_type": "markdown",
   "id": "b642e25b",
   "metadata": {},
   "source": [
    "## 1.4. Check NA"
   ]
  },
  {
   "cell_type": "code",
   "execution_count": 10,
   "id": "9d2656d1",
   "metadata": {
    "ExecuteTime": {
     "end_time": "2024-06-11T12:46:06.265248Z",
     "start_time": "2024-06-11T12:46:06.174685Z"
    }
   },
   "outputs": [
    {
     "data": {
      "text/plain": [
       "id                      0\n",
       "gender                  0\n",
       "age                     0\n",
       "driving_license         0\n",
       "region_code             0\n",
       "previously_insured      0\n",
       "vehicle_age             0\n",
       "vehicle_damage          0\n",
       "annual_premium          0\n",
       "policy_sales_channel    0\n",
       "vintage                 0\n",
       "response                0\n",
       "dtype: int64"
      ]
     },
     "execution_count": 10,
     "metadata": {},
     "output_type": "execute_result"
    }
   ],
   "source": [
    "df1.isna().sum()"
   ]
  },
  {
   "cell_type": "markdown",
   "id": "deab198c",
   "metadata": {},
   "source": [
    "## 1.5. Fillout NA"
   ]
  },
  {
   "cell_type": "markdown",
   "id": "71aab79e",
   "metadata": {},
   "source": [
    "## 1.6. Change Types"
   ]
  },
  {
   "cell_type": "code",
   "execution_count": 11,
   "id": "828eacb5",
   "metadata": {
    "ExecuteTime": {
     "end_time": "2024-06-11T12:46:10.226597Z",
     "start_time": "2024-06-11T12:46:09.801267Z"
    }
   },
   "outputs": [
    {
     "data": {
      "text/plain": [
       "id                      string[python]\n",
       "gender                  string[python]\n",
       "age                              int64\n",
       "driving_license         string[python]\n",
       "region_code             string[python]\n",
       "previously_insured      string[python]\n",
       "vehicle_age                     object\n",
       "vehicle_damage          string[python]\n",
       "annual_premium                 float64\n",
       "policy_sales_channel    string[python]\n",
       "vintage                          int64\n",
       "response                string[python]\n",
       "dtype: object"
      ]
     },
     "execution_count": 11,
     "metadata": {},
     "output_type": "execute_result"
    }
   ],
   "source": [
    "df1['id'] = df1['id'].astype('string')\n",
    "df1['gender'] = df1['gender'].astype('string')\n",
    "df1['driving_license'] = df1['driving_license'].astype('string')\n",
    "df1['previously_insured'] = df1['previously_insured'].astype('string')\n",
    "df1['vehicle_damage'] = df1['vehicle_damage'].astype('string')\n",
    "df1['policy_sales_channel'] = df1['policy_sales_channel'].astype('int')\n",
    "df1['policy_sales_channel'] = df1['policy_sales_channel'].astype('string')\n",
    "df1['region_code'] = df1['region_code'].astype('int')\n",
    "df1['region_code'] = df1['region_code'].astype('string')\n",
    "df1['response'] = df1['response'].astype('string')\n",
    "df1.dtypes"
   ]
  },
  {
   "cell_type": "markdown",
   "id": "5d42d7ba",
   "metadata": {},
   "source": [
    "### 1.6. Mapping Values"
   ]
  },
  {
   "cell_type": "code",
   "execution_count": 12,
   "id": "3082639c",
   "metadata": {
    "ExecuteTime": {
     "end_time": "2024-06-11T12:46:16.260098Z",
     "start_time": "2024-06-11T12:46:16.226424Z"
    }
   },
   "outputs": [],
   "source": [
    "df1['vehicle_damage'] = df1['vehicle_damage'].map({'Yes': '1', 'No': '0'})\n",
    "df1['vehicle_damage'] = df1['vehicle_damage'].astype('string')"
   ]
  },
  {
   "cell_type": "code",
   "execution_count": 13,
   "id": "2418ec76",
   "metadata": {
    "ExecuteTime": {
     "end_time": "2024-06-11T12:46:17.829754Z",
     "start_time": "2024-06-11T12:46:17.813231Z"
    }
   },
   "outputs": [
    {
     "data": {
      "text/plain": [
       "array(['> 2 Years', '1-2 Year', '< 1 Year'], dtype=object)"
      ]
     },
     "execution_count": 13,
     "metadata": {},
     "output_type": "execute_result"
    }
   ],
   "source": [
    "df1['vehicle_age'].unique()"
   ]
  },
  {
   "cell_type": "code",
   "execution_count": 14,
   "id": "6f8c3def",
   "metadata": {
    "ExecuteTime": {
     "end_time": "2024-06-11T12:46:18.450560Z",
     "start_time": "2024-06-11T12:46:18.424433Z"
    }
   },
   "outputs": [],
   "source": [
    "df1['vehicle_age'] = df1['vehicle_age'].map({'< 1 Year': '0', '1-2 Year': '1','> 2 Years': '2'})\n",
    "df1['vehicle_age'] = df1['vehicle_age'].astype('string')"
   ]
  },
  {
   "cell_type": "markdown",
   "id": "c32a6a3b",
   "metadata": {},
   "source": [
    "## 1.7. Descriptive Statistical"
   ]
  },
  {
   "cell_type": "markdown",
   "id": "6ec4658b",
   "metadata": {},
   "source": [
    "### 1.7.1 Numerical Attributes"
   ]
  },
  {
   "cell_type": "markdown",
   "id": "cd92e2cd",
   "metadata": {},
   "source": [
    "### 1.7.2 Categorical Attributes"
   ]
  },
  {
   "cell_type": "code",
   "execution_count": null,
   "id": "2c76d415",
   "metadata": {},
   "outputs": [],
   "source": []
  }
 ],
 "metadata": {
  "kernelspec": {
   "display_name": "Python [conda env:pa4_env] *",
   "language": "python",
   "name": "conda-env-pa4_env-py"
  },
  "language_info": {
   "codemirror_mode": {
    "name": "ipython",
    "version": 3
   },
   "file_extension": ".py",
   "mimetype": "text/x-python",
   "name": "python",
   "nbconvert_exporter": "python",
   "pygments_lexer": "ipython3",
   "version": "3.11.7"
  }
 },
 "nbformat": 4,
 "nbformat_minor": 5
}
