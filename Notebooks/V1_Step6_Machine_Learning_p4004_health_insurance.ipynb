{
 "cells": [
  {
   "cell_type": "markdown",
   "id": "68d986b5",
   "metadata": {},
   "source": [
    "# 0.0. IMPORTS"
   ]
  },
  {
   "cell_type": "code",
   "execution_count": 95,
   "id": "10ebafd1",
   "metadata": {
    "ExecuteTime": {
     "end_time": "2024-08-25T18:41:21.852133Z",
     "start_time": "2024-08-25T18:41:21.847818Z"
    }
   },
   "outputs": [],
   "source": [
    "import pandas as pd   \n",
    "import inflection\n",
    "import math\n",
    "import numpy as np\n",
    "import seaborn as sns\n",
    "import scikitplot as skplt\n",
    "from matplotlib import pyplot as plt\n",
    "from IPython.core.display import HTML\n",
    "from IPython.display       import Image\n",
    "from sklearn import preprocessing as pp\n",
    "from sklearn import model_selection as ms\n",
    "from sklearn import ensemble as en\n",
    "from sklearn import neighbors as nh\n",
    "from sklearn import linear_model as lm "
   ]
  },
  {
   "cell_type": "markdown",
   "id": "3e6cab50",
   "metadata": {},
   "source": [
    "## 0.1. Helper Functions"
   ]
  },
  {
   "cell_type": "code",
   "execution_count": 3,
   "id": "6213649f",
   "metadata": {
    "ExecuteTime": {
     "end_time": "2024-08-25T18:30:17.361710Z",
     "start_time": "2024-08-25T18:30:17.222565Z"
    }
   },
   "outputs": [
    {
     "ename": "ValueError",
     "evalue": "Key backend: 'inline' is not a valid value for backend; supported values are ['GTK3Agg', 'GTK3Cairo', 'GTK4Agg', 'GTK4Cairo', 'MacOSX', 'nbAgg', 'QtAgg', 'QtCairo', 'Qt5Agg', 'Qt5Cairo', 'TkAgg', 'TkCairo', 'WebAgg', 'WX', 'WXAgg', 'WXCairo', 'agg', 'cairo', 'pdf', 'pgf', 'ps', 'svg', 'template']",
     "output_type": "error",
     "traceback": [
      "\u001b[0;31m---------------------------------------------------------------------------\u001b[0m",
      "\u001b[0;31mValueError\u001b[0m                                Traceback (most recent call last)",
      "Cell \u001b[0;32mIn[3], line 15\u001b[0m\n\u001b[1;32m     12\u001b[0m     pd\u001b[38;5;241m.\u001b[39mset_option( \u001b[38;5;124m'\u001b[39m\u001b[38;5;124mdisplay.expand_frame_repr\u001b[39m\u001b[38;5;124m'\u001b[39m, \u001b[38;5;28;01mFalse\u001b[39;00m )\n\u001b[1;32m     14\u001b[0m     sns\u001b[38;5;241m.\u001b[39mset()\n\u001b[0;32m---> 15\u001b[0m \u001b[43mjupyter_settings\u001b[49m\u001b[43m(\u001b[49m\u001b[43m)\u001b[49m\n\u001b[1;32m     17\u001b[0m \u001b[38;5;28;01mdef\u001b[39;00m \u001b[38;5;21mannotate_plot\u001b[39m(ax, width, height):\n\u001b[1;32m     18\u001b[0m     \u001b[38;5;28;01mfor\u001b[39;00m p \u001b[38;5;129;01min\u001b[39;00m ax\u001b[38;5;241m.\u001b[39mpatches:\n",
      "Cell \u001b[0;32mIn[3], line 2\u001b[0m, in \u001b[0;36mjupyter_settings\u001b[0;34m()\u001b[0m\n\u001b[1;32m      1\u001b[0m \u001b[38;5;28;01mdef\u001b[39;00m \u001b[38;5;21mjupyter_settings\u001b[39m():\n\u001b[0;32m----> 2\u001b[0m     \u001b[43mget_ipython\u001b[49m\u001b[43m(\u001b[49m\u001b[43m)\u001b[49m\u001b[38;5;241;43m.\u001b[39;49m\u001b[43mrun_line_magic\u001b[49m\u001b[43m(\u001b[49m\u001b[38;5;124;43m'\u001b[39;49m\u001b[38;5;124;43mmatplotlib\u001b[39;49m\u001b[38;5;124;43m'\u001b[39;49m\u001b[43m,\u001b[49m\u001b[43m \u001b[49m\u001b[38;5;124;43m'\u001b[39;49m\u001b[38;5;124;43minline\u001b[39;49m\u001b[38;5;124;43m'\u001b[39;49m\u001b[43m)\u001b[49m\n\u001b[1;32m      3\u001b[0m     get_ipython()\u001b[38;5;241m.\u001b[39mrun_line_magic(\u001b[38;5;124m'\u001b[39m\u001b[38;5;124mpylab\u001b[39m\u001b[38;5;124m'\u001b[39m, \u001b[38;5;124m'\u001b[39m\u001b[38;5;124minline\u001b[39m\u001b[38;5;124m'\u001b[39m)\n\u001b[1;32m      5\u001b[0m     plt\u001b[38;5;241m.\u001b[39mstyle\u001b[38;5;241m.\u001b[39muse( \u001b[38;5;124m'\u001b[39m\u001b[38;5;124mbmh\u001b[39m\u001b[38;5;124m'\u001b[39m )\n",
      "File \u001b[0;32m~/anaconda3/envs/pa4_env/lib/python3.11/site-packages/IPython/core/interactiveshell.py:2480\u001b[0m, in \u001b[0;36mInteractiveShell.run_line_magic\u001b[0;34m(self, magic_name, line, _stack_depth)\u001b[0m\n\u001b[1;32m   2478\u001b[0m     kwargs[\u001b[38;5;124m'\u001b[39m\u001b[38;5;124mlocal_ns\u001b[39m\u001b[38;5;124m'\u001b[39m] \u001b[38;5;241m=\u001b[39m \u001b[38;5;28mself\u001b[39m\u001b[38;5;241m.\u001b[39mget_local_scope(stack_depth)\n\u001b[1;32m   2479\u001b[0m \u001b[38;5;28;01mwith\u001b[39;00m \u001b[38;5;28mself\u001b[39m\u001b[38;5;241m.\u001b[39mbuiltin_trap:\n\u001b[0;32m-> 2480\u001b[0m     result \u001b[38;5;241m=\u001b[39m \u001b[43mfn\u001b[49m\u001b[43m(\u001b[49m\u001b[38;5;241;43m*\u001b[39;49m\u001b[43margs\u001b[49m\u001b[43m,\u001b[49m\u001b[43m \u001b[49m\u001b[38;5;241;43m*\u001b[39;49m\u001b[38;5;241;43m*\u001b[39;49m\u001b[43mkwargs\u001b[49m\u001b[43m)\u001b[49m\n\u001b[1;32m   2482\u001b[0m \u001b[38;5;66;03m# The code below prevents the output from being displayed\u001b[39;00m\n\u001b[1;32m   2483\u001b[0m \u001b[38;5;66;03m# when using magics with decorator @output_can_be_silenced\u001b[39;00m\n\u001b[1;32m   2484\u001b[0m \u001b[38;5;66;03m# when the last Python token in the expression is a ';'.\u001b[39;00m\n\u001b[1;32m   2485\u001b[0m \u001b[38;5;28;01mif\u001b[39;00m \u001b[38;5;28mgetattr\u001b[39m(fn, magic\u001b[38;5;241m.\u001b[39mMAGIC_OUTPUT_CAN_BE_SILENCED, \u001b[38;5;28;01mFalse\u001b[39;00m):\n",
      "File \u001b[0;32m~/anaconda3/envs/pa4_env/lib/python3.11/site-packages/IPython/core/magics/pylab.py:103\u001b[0m, in \u001b[0;36mPylabMagics.matplotlib\u001b[0;34m(self, line)\u001b[0m\n\u001b[1;32m     98\u001b[0m     \u001b[38;5;28mprint\u001b[39m(\n\u001b[1;32m     99\u001b[0m         \u001b[38;5;124m\"\u001b[39m\u001b[38;5;124mAvailable matplotlib backends: \u001b[39m\u001b[38;5;132;01m%s\u001b[39;00m\u001b[38;5;124m\"\u001b[39m\n\u001b[1;32m    100\u001b[0m         \u001b[38;5;241m%\u001b[39m _list_matplotlib_backends_and_gui_loops()\n\u001b[1;32m    101\u001b[0m     )\n\u001b[1;32m    102\u001b[0m \u001b[38;5;28;01melse\u001b[39;00m:\n\u001b[0;32m--> 103\u001b[0m     gui, backend \u001b[38;5;241m=\u001b[39m \u001b[38;5;28;43mself\u001b[39;49m\u001b[38;5;241;43m.\u001b[39;49m\u001b[43mshell\u001b[49m\u001b[38;5;241;43m.\u001b[39;49m\u001b[43menable_matplotlib\u001b[49m\u001b[43m(\u001b[49m\u001b[43margs\u001b[49m\u001b[38;5;241;43m.\u001b[39;49m\u001b[43mgui\u001b[49m\u001b[38;5;241;43m.\u001b[39;49m\u001b[43mlower\u001b[49m\u001b[43m(\u001b[49m\u001b[43m)\u001b[49m\u001b[43m \u001b[49m\u001b[38;5;28;43;01mif\u001b[39;49;00m\u001b[43m \u001b[49m\u001b[38;5;28;43misinstance\u001b[39;49m\u001b[43m(\u001b[49m\u001b[43margs\u001b[49m\u001b[38;5;241;43m.\u001b[39;49m\u001b[43mgui\u001b[49m\u001b[43m,\u001b[49m\u001b[43m \u001b[49m\u001b[38;5;28;43mstr\u001b[39;49m\u001b[43m)\u001b[49m\u001b[43m \u001b[49m\u001b[38;5;28;43;01melse\u001b[39;49;00m\u001b[43m \u001b[49m\u001b[43margs\u001b[49m\u001b[38;5;241;43m.\u001b[39;49m\u001b[43mgui\u001b[49m\u001b[43m)\u001b[49m\n\u001b[1;32m    104\u001b[0m     \u001b[38;5;28mself\u001b[39m\u001b[38;5;241m.\u001b[39m_show_matplotlib_backend(args\u001b[38;5;241m.\u001b[39mgui, backend)\n",
      "File \u001b[0;32m~/anaconda3/envs/pa4_env/lib/python3.11/site-packages/IPython/core/interactiveshell.py:3677\u001b[0m, in \u001b[0;36mInteractiveShell.enable_matplotlib\u001b[0;34m(self, gui)\u001b[0m\n\u001b[1;32m   3673\u001b[0m         \u001b[38;5;28mprint\u001b[39m(\u001b[38;5;124m'\u001b[39m\u001b[38;5;124mWarning: Cannot change to a different GUI toolkit: \u001b[39m\u001b[38;5;132;01m%s\u001b[39;00m\u001b[38;5;124m.\u001b[39m\u001b[38;5;124m'\u001b[39m\n\u001b[1;32m   3674\u001b[0m                 \u001b[38;5;124m'\u001b[39m\u001b[38;5;124m Using \u001b[39m\u001b[38;5;132;01m%s\u001b[39;00m\u001b[38;5;124m instead.\u001b[39m\u001b[38;5;124m'\u001b[39m \u001b[38;5;241m%\u001b[39m (gui, \u001b[38;5;28mself\u001b[39m\u001b[38;5;241m.\u001b[39mpylab_gui_select))\n\u001b[1;32m   3675\u001b[0m         gui, backend \u001b[38;5;241m=\u001b[39m pt\u001b[38;5;241m.\u001b[39mfind_gui_and_backend(\u001b[38;5;28mself\u001b[39m\u001b[38;5;241m.\u001b[39mpylab_gui_select)\n\u001b[0;32m-> 3677\u001b[0m \u001b[43mpt\u001b[49m\u001b[38;5;241;43m.\u001b[39;49m\u001b[43mactivate_matplotlib\u001b[49m\u001b[43m(\u001b[49m\u001b[43mbackend\u001b[49m\u001b[43m)\u001b[49m\n\u001b[1;32m   3679\u001b[0m \u001b[38;5;28;01mfrom\u001b[39;00m \u001b[38;5;21;01mmatplotlib_inline\u001b[39;00m\u001b[38;5;21;01m.\u001b[39;00m\u001b[38;5;21;01mbackend_inline\u001b[39;00m \u001b[38;5;28;01mimport\u001b[39;00m configure_inline_support\n\u001b[1;32m   3681\u001b[0m configure_inline_support(\u001b[38;5;28mself\u001b[39m, backend)\n",
      "File \u001b[0;32m~/anaconda3/envs/pa4_env/lib/python3.11/site-packages/IPython/core/pylabtools.py:403\u001b[0m, in \u001b[0;36mactivate_matplotlib\u001b[0;34m(backend)\u001b[0m\n\u001b[1;32m    398\u001b[0m matplotlib\u001b[38;5;241m.\u001b[39minteractive(\u001b[38;5;28;01mTrue\u001b[39;00m)\n\u001b[1;32m    400\u001b[0m \u001b[38;5;66;03m# Matplotlib had a bug where even switch_backend could not force\u001b[39;00m\n\u001b[1;32m    401\u001b[0m \u001b[38;5;66;03m# the rcParam to update. This needs to be set *before* the module\u001b[39;00m\n\u001b[1;32m    402\u001b[0m \u001b[38;5;66;03m# magic of switch_backend().\u001b[39;00m\n\u001b[0;32m--> 403\u001b[0m \u001b[43mmatplotlib\u001b[49m\u001b[38;5;241;43m.\u001b[39;49m\u001b[43mrcParams\u001b[49m\u001b[43m[\u001b[49m\u001b[38;5;124;43m'\u001b[39;49m\u001b[38;5;124;43mbackend\u001b[39;49m\u001b[38;5;124;43m'\u001b[39;49m\u001b[43m]\u001b[49m \u001b[38;5;241m=\u001b[39m backend\n\u001b[1;32m    405\u001b[0m \u001b[38;5;66;03m# Due to circular imports, pyplot may be only partially initialised\u001b[39;00m\n\u001b[1;32m    406\u001b[0m \u001b[38;5;66;03m# when this function runs.\u001b[39;00m\n\u001b[1;32m    407\u001b[0m \u001b[38;5;66;03m# So avoid needing matplotlib attribute-lookup to access pyplot.\u001b[39;00m\n\u001b[1;32m    408\u001b[0m \u001b[38;5;28;01mfrom\u001b[39;00m \u001b[38;5;21;01mmatplotlib\u001b[39;00m \u001b[38;5;28;01mimport\u001b[39;00m pyplot \u001b[38;5;28;01mas\u001b[39;00m plt\n",
      "File \u001b[0;32m~/anaconda3/envs/pa4_env/lib/python3.11/site-packages/matplotlib/__init__.py:734\u001b[0m, in \u001b[0;36mRcParams.__setitem__\u001b[0;34m(self, key, val)\u001b[0m\n\u001b[1;32m    732\u001b[0m         cval \u001b[38;5;241m=\u001b[39m \u001b[38;5;28mself\u001b[39m\u001b[38;5;241m.\u001b[39mvalidate[key](val)\n\u001b[1;32m    733\u001b[0m     \u001b[38;5;28;01mexcept\u001b[39;00m \u001b[38;5;167;01mValueError\u001b[39;00m \u001b[38;5;28;01mas\u001b[39;00m ve:\n\u001b[0;32m--> 734\u001b[0m         \u001b[38;5;28;01mraise\u001b[39;00m \u001b[38;5;167;01mValueError\u001b[39;00m(\u001b[38;5;124mf\u001b[39m\u001b[38;5;124m\"\u001b[39m\u001b[38;5;124mKey \u001b[39m\u001b[38;5;132;01m{\u001b[39;00mkey\u001b[38;5;132;01m}\u001b[39;00m\u001b[38;5;124m: \u001b[39m\u001b[38;5;132;01m{\u001b[39;00mve\u001b[38;5;132;01m}\u001b[39;00m\u001b[38;5;124m\"\u001b[39m) \u001b[38;5;28;01mfrom\u001b[39;00m \u001b[38;5;28;01mNone\u001b[39;00m\n\u001b[1;32m    735\u001b[0m     \u001b[38;5;28mself\u001b[39m\u001b[38;5;241m.\u001b[39m_set(key, cval)\n\u001b[1;32m    736\u001b[0m \u001b[38;5;28;01mexcept\u001b[39;00m \u001b[38;5;167;01mKeyError\u001b[39;00m \u001b[38;5;28;01mas\u001b[39;00m err:\n",
      "\u001b[0;31mValueError\u001b[0m: Key backend: 'inline' is not a valid value for backend; supported values are ['GTK3Agg', 'GTK3Cairo', 'GTK4Agg', 'GTK4Cairo', 'MacOSX', 'nbAgg', 'QtAgg', 'QtCairo', 'Qt5Agg', 'Qt5Cairo', 'TkAgg', 'TkCairo', 'WebAgg', 'WX', 'WXAgg', 'WXCairo', 'agg', 'cairo', 'pdf', 'pgf', 'ps', 'svg', 'template']"
     ]
    }
   ],
   "source": [
    "def jupyter_settings():\n",
    "    %matplotlib inline\n",
    "    %pylab inline\n",
    "    \n",
    "    plt.style.use( 'bmh' )\n",
    "    plt.rcParams['figure.figsize'] = [25, 12]\n",
    "    plt.rcParams['font.size'] = 24\n",
    "    \n",
    "    display( HTML( '<style>.container { width:100% !important; }</style>') )\n",
    "    pd.options.display.max_columns = None\n",
    "    pd.options.display.max_rows = None\n",
    "    pd.set_option( 'display.expand_frame_repr', False )\n",
    "    \n",
    "    sns.set()\n",
    "jupyter_settings()\n",
    "\n",
    "def annotate_plot(ax, width, height):\n",
    "    for p in ax.patches:\n",
    "        ax.annotate('{:.1f}'.format(p.get_height()), (p.get_x() + width, p.get_height() + height))"
   ]
  },
  {
   "cell_type": "markdown",
   "id": "20ede613",
   "metadata": {},
   "source": [
    "## 0.2. Loading data"
   ]
  },
  {
   "cell_type": "code",
   "execution_count": 4,
   "id": "ae161d15",
   "metadata": {
    "ExecuteTime": {
     "end_time": "2024-08-25T18:30:27.068164Z",
     "start_time": "2024-08-25T18:30:26.720403Z"
    }
   },
   "outputs": [],
   "source": [
    "#low_memory = False fala pra função read csv ler todo o arquivo de uma vez só para a memoria\n",
    "df_insurance_raw = pd.read_csv('../Datasets/raw/train.csv',low_memory= False)"
   ]
  },
  {
   "cell_type": "markdown",
   "id": "6826876d",
   "metadata": {},
   "source": [
    "# 1.0. DATA DESCRIPTION"
   ]
  },
  {
   "cell_type": "code",
   "execution_count": 5,
   "id": "095cf995",
   "metadata": {
    "ExecuteTime": {
     "end_time": "2024-08-25T18:30:27.078994Z",
     "start_time": "2024-08-25T18:30:27.069387Z"
    }
   },
   "outputs": [],
   "source": [
    "df1 = df_insurance_raw.copy()"
   ]
  },
  {
   "cell_type": "markdown",
   "id": "3eade45e",
   "metadata": {},
   "source": [
    "## 1.1. Rename Columns"
   ]
  },
  {
   "cell_type": "code",
   "execution_count": 6,
   "id": "c5b7bffa",
   "metadata": {
    "ExecuteTime": {
     "end_time": "2024-08-25T18:30:27.083233Z",
     "start_time": "2024-08-25T18:30:27.079999Z"
    }
   },
   "outputs": [
    {
     "data": {
      "text/plain": [
       "Index(['id', 'Gender', 'Age', 'Driving_License', 'Region_Code',\n",
       "       'Previously_Insured', 'Vehicle_Age', 'Vehicle_Damage', 'Annual_Premium',\n",
       "       'Policy_Sales_Channel', 'Vintage', 'Response'],\n",
       "      dtype='object')"
      ]
     },
     "execution_count": 6,
     "metadata": {},
     "output_type": "execute_result"
    }
   ],
   "source": [
    "df1.columns"
   ]
  },
  {
   "cell_type": "code",
   "execution_count": 7,
   "id": "b1e2b228",
   "metadata": {
    "ExecuteTime": {
     "end_time": "2024-08-25T18:30:27.089077Z",
     "start_time": "2024-08-25T18:30:27.084739Z"
    }
   },
   "outputs": [
    {
     "data": {
      "text/plain": [
       "Index(['id', 'gender', 'age', 'driving_license', 'region_code',\n",
       "       'previously_insured', 'vehicle_age', 'vehicle_damage', 'annual_premium',\n",
       "       'policy_sales_channel', 'vintage', 'response'],\n",
       "      dtype='object')"
      ]
     },
     "execution_count": 7,
     "metadata": {},
     "output_type": "execute_result"
    }
   ],
   "source": [
    "cols_old = ['Id', 'Gender', 'Age', 'Driving_License', 'Region_Code',\n",
    "       'Previously_Insured', 'Vehicle_Age', 'Vehicle_Damage', 'Annual_Premium',\n",
    "       'Policy_Sales_Channel', 'Vintage', 'Response']\n",
    "\n",
    "snakecase = lambda x: inflection.underscore(x)\n",
    "cols_new = list (map(snakecase,cols_old))\n",
    "\n",
    "#rename\n",
    "df1.columns = cols_new\n",
    "df1.columns"
   ]
  },
  {
   "cell_type": "markdown",
   "id": "2f2268f8",
   "metadata": {},
   "source": [
    "## 1.2. Data Dimensions"
   ]
  },
  {
   "cell_type": "code",
   "execution_count": 8,
   "id": "aa6aca23",
   "metadata": {
    "ExecuteTime": {
     "end_time": "2024-08-25T18:30:27.094829Z",
     "start_time": "2024-08-25T18:30:27.090101Z"
    }
   },
   "outputs": [
    {
     "name": "stdout",
     "output_type": "stream",
     "text": [
      "Number of Rows: 381109\n",
      "Number of Cols: 12\n"
     ]
    }
   ],
   "source": [
    "print('Number of Rows: {}'.format(df1.shape[0]))\n",
    "print('Number of Cols: {}'.format(df1.shape[1]))"
   ]
  },
  {
   "cell_type": "markdown",
   "id": "da6a73d1",
   "metadata": {},
   "source": [
    "## 1.3. Data Types"
   ]
  },
  {
   "cell_type": "code",
   "execution_count": 9,
   "id": "eb882017",
   "metadata": {
    "ExecuteTime": {
     "end_time": "2024-08-25T18:30:27.102615Z",
     "start_time": "2024-08-25T18:30:27.095893Z"
    }
   },
   "outputs": [
    {
     "data": {
      "text/plain": [
       "id                        int64\n",
       "gender                   object\n",
       "age                       int64\n",
       "driving_license           int64\n",
       "region_code             float64\n",
       "previously_insured        int64\n",
       "vehicle_age              object\n",
       "vehicle_damage           object\n",
       "annual_premium          float64\n",
       "policy_sales_channel    float64\n",
       "vintage                   int64\n",
       "response                  int64\n",
       "dtype: object"
      ]
     },
     "execution_count": 9,
     "metadata": {},
     "output_type": "execute_result"
    }
   ],
   "source": [
    "df1.dtypes"
   ]
  },
  {
   "cell_type": "code",
   "execution_count": 10,
   "id": "ac807126",
   "metadata": {
    "ExecuteTime": {
     "end_time": "2024-08-25T18:30:27.113813Z",
     "start_time": "2024-08-25T18:30:27.103577Z"
    }
   },
   "outputs": [
    {
     "data": {
      "text/html": [
       "<div>\n",
       "<style scoped>\n",
       "    .dataframe tbody tr th:only-of-type {\n",
       "        vertical-align: middle;\n",
       "    }\n",
       "\n",
       "    .dataframe tbody tr th {\n",
       "        vertical-align: top;\n",
       "    }\n",
       "\n",
       "    .dataframe thead th {\n",
       "        text-align: right;\n",
       "    }\n",
       "</style>\n",
       "<table border=\"1\" class=\"dataframe\">\n",
       "  <thead>\n",
       "    <tr style=\"text-align: right;\">\n",
       "      <th></th>\n",
       "      <th>id</th>\n",
       "      <th>gender</th>\n",
       "      <th>age</th>\n",
       "      <th>driving_license</th>\n",
       "      <th>region_code</th>\n",
       "      <th>previously_insured</th>\n",
       "      <th>vehicle_age</th>\n",
       "      <th>vehicle_damage</th>\n",
       "      <th>annual_premium</th>\n",
       "      <th>policy_sales_channel</th>\n",
       "      <th>vintage</th>\n",
       "      <th>response</th>\n",
       "    </tr>\n",
       "  </thead>\n",
       "  <tbody>\n",
       "    <tr>\n",
       "      <th>0</th>\n",
       "      <td>1</td>\n",
       "      <td>Male</td>\n",
       "      <td>44</td>\n",
       "      <td>1</td>\n",
       "      <td>28.0</td>\n",
       "      <td>0</td>\n",
       "      <td>&gt; 2 Years</td>\n",
       "      <td>Yes</td>\n",
       "      <td>40454.0</td>\n",
       "      <td>26.0</td>\n",
       "      <td>217</td>\n",
       "      <td>1</td>\n",
       "    </tr>\n",
       "    <tr>\n",
       "      <th>1</th>\n",
       "      <td>2</td>\n",
       "      <td>Male</td>\n",
       "      <td>76</td>\n",
       "      <td>1</td>\n",
       "      <td>3.0</td>\n",
       "      <td>0</td>\n",
       "      <td>1-2 Year</td>\n",
       "      <td>No</td>\n",
       "      <td>33536.0</td>\n",
       "      <td>26.0</td>\n",
       "      <td>183</td>\n",
       "      <td>0</td>\n",
       "    </tr>\n",
       "    <tr>\n",
       "      <th>2</th>\n",
       "      <td>3</td>\n",
       "      <td>Male</td>\n",
       "      <td>47</td>\n",
       "      <td>1</td>\n",
       "      <td>28.0</td>\n",
       "      <td>0</td>\n",
       "      <td>&gt; 2 Years</td>\n",
       "      <td>Yes</td>\n",
       "      <td>38294.0</td>\n",
       "      <td>26.0</td>\n",
       "      <td>27</td>\n",
       "      <td>1</td>\n",
       "    </tr>\n",
       "    <tr>\n",
       "      <th>3</th>\n",
       "      <td>4</td>\n",
       "      <td>Male</td>\n",
       "      <td>21</td>\n",
       "      <td>1</td>\n",
       "      <td>11.0</td>\n",
       "      <td>1</td>\n",
       "      <td>&lt; 1 Year</td>\n",
       "      <td>No</td>\n",
       "      <td>28619.0</td>\n",
       "      <td>152.0</td>\n",
       "      <td>203</td>\n",
       "      <td>0</td>\n",
       "    </tr>\n",
       "    <tr>\n",
       "      <th>4</th>\n",
       "      <td>5</td>\n",
       "      <td>Female</td>\n",
       "      <td>29</td>\n",
       "      <td>1</td>\n",
       "      <td>41.0</td>\n",
       "      <td>1</td>\n",
       "      <td>&lt; 1 Year</td>\n",
       "      <td>No</td>\n",
       "      <td>27496.0</td>\n",
       "      <td>152.0</td>\n",
       "      <td>39</td>\n",
       "      <td>0</td>\n",
       "    </tr>\n",
       "  </tbody>\n",
       "</table>\n",
       "</div>"
      ],
      "text/plain": [
       "   id  gender  age  driving_license  region_code  previously_insured  \\\n",
       "0   1    Male   44                1         28.0                   0   \n",
       "1   2    Male   76                1          3.0                   0   \n",
       "2   3    Male   47                1         28.0                   0   \n",
       "3   4    Male   21                1         11.0                   1   \n",
       "4   5  Female   29                1         41.0                   1   \n",
       "\n",
       "  vehicle_age vehicle_damage  annual_premium  policy_sales_channel  vintage  \\\n",
       "0   > 2 Years            Yes         40454.0                  26.0      217   \n",
       "1    1-2 Year             No         33536.0                  26.0      183   \n",
       "2   > 2 Years            Yes         38294.0                  26.0       27   \n",
       "3    < 1 Year             No         28619.0                 152.0      203   \n",
       "4    < 1 Year             No         27496.0                 152.0       39   \n",
       "\n",
       "   response  \n",
       "0         1  \n",
       "1         0  \n",
       "2         1  \n",
       "3         0  \n",
       "4         0  "
      ]
     },
     "execution_count": 10,
     "metadata": {},
     "output_type": "execute_result"
    }
   ],
   "source": [
    "df1.head()"
   ]
  },
  {
   "cell_type": "markdown",
   "id": "b642e25b",
   "metadata": {},
   "source": [
    "## 1.4. Check NA"
   ]
  },
  {
   "cell_type": "code",
   "execution_count": 11,
   "id": "9d2656d1",
   "metadata": {
    "ExecuteTime": {
     "end_time": "2024-08-25T18:30:27.146275Z",
     "start_time": "2024-08-25T18:30:27.114862Z"
    }
   },
   "outputs": [
    {
     "data": {
      "text/plain": [
       "id                      0\n",
       "gender                  0\n",
       "age                     0\n",
       "driving_license         0\n",
       "region_code             0\n",
       "previously_insured      0\n",
       "vehicle_age             0\n",
       "vehicle_damage          0\n",
       "annual_premium          0\n",
       "policy_sales_channel    0\n",
       "vintage                 0\n",
       "response                0\n",
       "dtype: int64"
      ]
     },
     "execution_count": 11,
     "metadata": {},
     "output_type": "execute_result"
    }
   ],
   "source": [
    "df1.isna().sum()"
   ]
  },
  {
   "cell_type": "markdown",
   "id": "deab198c",
   "metadata": {},
   "source": [
    "## 1.5. Fillout NA"
   ]
  },
  {
   "cell_type": "markdown",
   "id": "71aab79e",
   "metadata": {},
   "source": [
    "## 1.6. Change Types"
   ]
  },
  {
   "cell_type": "code",
   "execution_count": 12,
   "id": "828eacb5",
   "metadata": {
    "ExecuteTime": {
     "end_time": "2024-08-25T18:30:27.149734Z",
     "start_time": "2024-08-25T18:30:27.147457Z"
    }
   },
   "outputs": [],
   "source": [
    "# df1['id'] = df1['id'].astype('string')\n",
    "# df1['gender'] = df1['gender'].astype('string')\n",
    "# #df1['driving_license'] = df1['driving_license'].astype('string')\n",
    "# #df1['previously_insured'] = df1['previously_insured'].astype('string')\n",
    "# df1['vehicle_damage'] = df1['vehicle_damage'].astype('string')\n",
    "# df1['policy_sales_channel'] = df1['policy_sales_channel'].astype('int')\n",
    "# df1['policy_sales_channel'] = df1['policy_sales_channel'].astype('string')\n",
    "# df1['region_code'] = df1['region_code'].astype('int')\n",
    "# df1['region_code'] = df1['region_code'].astype('string')\n",
    "# #df1['response'] = df1['response'].astype('string')\n",
    "# df1.dtypes"
   ]
  },
  {
   "cell_type": "markdown",
   "id": "5d42d7ba",
   "metadata": {},
   "source": [
    "### 1.6. Mapping Values"
   ]
  },
  {
   "cell_type": "code",
   "execution_count": 13,
   "id": "3082639c",
   "metadata": {
    "ExecuteTime": {
     "end_time": "2024-08-25T18:30:27.154928Z",
     "start_time": "2024-08-25T18:30:27.152464Z"
    }
   },
   "outputs": [],
   "source": [
    "#df1['vehicle_damage'] = df1['vehicle_damage'].map({'Yes': '1', 'No': '0'})\n",
    "#df1['vehicle_damage'] = df1['vehicle_damage'].astype('string')"
   ]
  },
  {
   "cell_type": "code",
   "execution_count": 14,
   "id": "2418ec76",
   "metadata": {
    "ExecuteTime": {
     "end_time": "2024-08-25T18:30:27.170781Z",
     "start_time": "2024-08-25T18:30:27.155823Z"
    }
   },
   "outputs": [
    {
     "data": {
      "text/plain": [
       "array(['> 2 Years', '1-2 Year', '< 1 Year'], dtype=object)"
      ]
     },
     "execution_count": 14,
     "metadata": {},
     "output_type": "execute_result"
    }
   ],
   "source": [
    "df1['vehicle_age'].unique()"
   ]
  },
  {
   "cell_type": "code",
   "execution_count": 15,
   "id": "6f8c3def",
   "metadata": {
    "ExecuteTime": {
     "end_time": "2024-08-25T18:30:27.173237Z",
     "start_time": "2024-08-25T18:30:27.171686Z"
    }
   },
   "outputs": [],
   "source": [
    "#df1['vehicle_age'] = df1['vehicle_age'].map({'< 1 Year': '0', '1-2 Year': '1','> 2 Years': '2'})\n",
    "#df1['vehicle_age'] = df1['vehicle_age'].astype('string')"
   ]
  },
  {
   "cell_type": "markdown",
   "id": "c32a6a3b",
   "metadata": {},
   "source": [
    "## 1.7. Descriptive Statistical"
   ]
  },
  {
   "cell_type": "code",
   "execution_count": 16,
   "id": "c47e4007",
   "metadata": {
    "ExecuteTime": {
     "end_time": "2024-08-25T18:30:27.183475Z",
     "start_time": "2024-08-25T18:30:27.174158Z"
    }
   },
   "outputs": [
    {
     "data": {
      "text/html": [
       "<div>\n",
       "<style scoped>\n",
       "    .dataframe tbody tr th:only-of-type {\n",
       "        vertical-align: middle;\n",
       "    }\n",
       "\n",
       "    .dataframe tbody tr th {\n",
       "        vertical-align: top;\n",
       "    }\n",
       "\n",
       "    .dataframe thead th {\n",
       "        text-align: right;\n",
       "    }\n",
       "</style>\n",
       "<table border=\"1\" class=\"dataframe\">\n",
       "  <thead>\n",
       "    <tr style=\"text-align: right;\">\n",
       "      <th></th>\n",
       "      <th>id</th>\n",
       "      <th>gender</th>\n",
       "      <th>age</th>\n",
       "      <th>driving_license</th>\n",
       "      <th>region_code</th>\n",
       "      <th>previously_insured</th>\n",
       "      <th>vehicle_age</th>\n",
       "      <th>vehicle_damage</th>\n",
       "      <th>annual_premium</th>\n",
       "      <th>policy_sales_channel</th>\n",
       "      <th>vintage</th>\n",
       "      <th>response</th>\n",
       "    </tr>\n",
       "  </thead>\n",
       "  <tbody>\n",
       "    <tr>\n",
       "      <th>0</th>\n",
       "      <td>1</td>\n",
       "      <td>Male</td>\n",
       "      <td>44</td>\n",
       "      <td>1</td>\n",
       "      <td>28.0</td>\n",
       "      <td>0</td>\n",
       "      <td>&gt; 2 Years</td>\n",
       "      <td>Yes</td>\n",
       "      <td>40454.0</td>\n",
       "      <td>26.0</td>\n",
       "      <td>217</td>\n",
       "      <td>1</td>\n",
       "    </tr>\n",
       "    <tr>\n",
       "      <th>1</th>\n",
       "      <td>2</td>\n",
       "      <td>Male</td>\n",
       "      <td>76</td>\n",
       "      <td>1</td>\n",
       "      <td>3.0</td>\n",
       "      <td>0</td>\n",
       "      <td>1-2 Year</td>\n",
       "      <td>No</td>\n",
       "      <td>33536.0</td>\n",
       "      <td>26.0</td>\n",
       "      <td>183</td>\n",
       "      <td>0</td>\n",
       "    </tr>\n",
       "    <tr>\n",
       "      <th>2</th>\n",
       "      <td>3</td>\n",
       "      <td>Male</td>\n",
       "      <td>47</td>\n",
       "      <td>1</td>\n",
       "      <td>28.0</td>\n",
       "      <td>0</td>\n",
       "      <td>&gt; 2 Years</td>\n",
       "      <td>Yes</td>\n",
       "      <td>38294.0</td>\n",
       "      <td>26.0</td>\n",
       "      <td>27</td>\n",
       "      <td>1</td>\n",
       "    </tr>\n",
       "    <tr>\n",
       "      <th>3</th>\n",
       "      <td>4</td>\n",
       "      <td>Male</td>\n",
       "      <td>21</td>\n",
       "      <td>1</td>\n",
       "      <td>11.0</td>\n",
       "      <td>1</td>\n",
       "      <td>&lt; 1 Year</td>\n",
       "      <td>No</td>\n",
       "      <td>28619.0</td>\n",
       "      <td>152.0</td>\n",
       "      <td>203</td>\n",
       "      <td>0</td>\n",
       "    </tr>\n",
       "    <tr>\n",
       "      <th>4</th>\n",
       "      <td>5</td>\n",
       "      <td>Female</td>\n",
       "      <td>29</td>\n",
       "      <td>1</td>\n",
       "      <td>41.0</td>\n",
       "      <td>1</td>\n",
       "      <td>&lt; 1 Year</td>\n",
       "      <td>No</td>\n",
       "      <td>27496.0</td>\n",
       "      <td>152.0</td>\n",
       "      <td>39</td>\n",
       "      <td>0</td>\n",
       "    </tr>\n",
       "  </tbody>\n",
       "</table>\n",
       "</div>"
      ],
      "text/plain": [
       "   id  gender  age  driving_license  region_code  previously_insured  \\\n",
       "0   1    Male   44                1         28.0                   0   \n",
       "1   2    Male   76                1          3.0                   0   \n",
       "2   3    Male   47                1         28.0                   0   \n",
       "3   4    Male   21                1         11.0                   1   \n",
       "4   5  Female   29                1         41.0                   1   \n",
       "\n",
       "  vehicle_age vehicle_damage  annual_premium  policy_sales_channel  vintage  \\\n",
       "0   > 2 Years            Yes         40454.0                  26.0      217   \n",
       "1    1-2 Year             No         33536.0                  26.0      183   \n",
       "2   > 2 Years            Yes         38294.0                  26.0       27   \n",
       "3    < 1 Year             No         28619.0                 152.0      203   \n",
       "4    < 1 Year             No         27496.0                 152.0       39   \n",
       "\n",
       "   response  \n",
       "0         1  \n",
       "1         0  \n",
       "2         1  \n",
       "3         0  \n",
       "4         0  "
      ]
     },
     "execution_count": 16,
     "metadata": {},
     "output_type": "execute_result"
    }
   ],
   "source": [
    "df1.head()"
   ]
  },
  {
   "cell_type": "code",
   "execution_count": 17,
   "id": "fd47150f",
   "metadata": {
    "ExecuteTime": {
     "end_time": "2024-08-25T18:30:27.196119Z",
     "start_time": "2024-08-25T18:30:27.184714Z"
    }
   },
   "outputs": [],
   "source": [
    "num_attributes = df1.select_dtypes(include = ['int64','float64'])\n",
    "cat_attributes = df1.select_dtypes(exclude = ['int64','float64','datetime64[ns]'])"
   ]
  },
  {
   "cell_type": "markdown",
   "id": "6ec4658b",
   "metadata": {},
   "source": [
    "### 1.7.1 Numerical Attributes"
   ]
  },
  {
   "cell_type": "code",
   "execution_count": 18,
   "id": "31ff7612",
   "metadata": {
    "ExecuteTime": {
     "end_time": "2024-08-25T18:30:27.632817Z",
     "start_time": "2024-08-25T18:30:27.197012Z"
    }
   },
   "outputs": [
    {
     "data": {
      "text/html": [
       "<div>\n",
       "<style scoped>\n",
       "    .dataframe tbody tr th:only-of-type {\n",
       "        vertical-align: middle;\n",
       "    }\n",
       "\n",
       "    .dataframe tbody tr th {\n",
       "        vertical-align: top;\n",
       "    }\n",
       "\n",
       "    .dataframe thead th {\n",
       "        text-align: right;\n",
       "    }\n",
       "</style>\n",
       "<table border=\"1\" class=\"dataframe\">\n",
       "  <thead>\n",
       "    <tr style=\"text-align: right;\">\n",
       "      <th></th>\n",
       "      <th>attribute</th>\n",
       "      <th>min</th>\n",
       "      <th>max</th>\n",
       "      <th>range</th>\n",
       "      <th>mean</th>\n",
       "      <th>median</th>\n",
       "      <th>std</th>\n",
       "      <th>skew</th>\n",
       "      <th>kurtosis</th>\n",
       "    </tr>\n",
       "  </thead>\n",
       "  <tbody>\n",
       "    <tr>\n",
       "      <th>0</th>\n",
       "      <td>id</td>\n",
       "      <td>1.0</td>\n",
       "      <td>381109.0</td>\n",
       "      <td>381108.0</td>\n",
       "      <td>190555.000000</td>\n",
       "      <td>190555.0</td>\n",
       "      <td>110016.691870</td>\n",
       "      <td>9.443274e-16</td>\n",
       "      <td>-1.200000</td>\n",
       "    </tr>\n",
       "    <tr>\n",
       "      <th>1</th>\n",
       "      <td>age</td>\n",
       "      <td>20.0</td>\n",
       "      <td>85.0</td>\n",
       "      <td>65.0</td>\n",
       "      <td>38.822584</td>\n",
       "      <td>36.0</td>\n",
       "      <td>15.511591</td>\n",
       "      <td>6.725390e-01</td>\n",
       "      <td>-0.565655</td>\n",
       "    </tr>\n",
       "    <tr>\n",
       "      <th>2</th>\n",
       "      <td>driving_license</td>\n",
       "      <td>0.0</td>\n",
       "      <td>1.0</td>\n",
       "      <td>1.0</td>\n",
       "      <td>0.997869</td>\n",
       "      <td>1.0</td>\n",
       "      <td>0.046109</td>\n",
       "      <td>-2.159518e+01</td>\n",
       "      <td>464.354302</td>\n",
       "    </tr>\n",
       "    <tr>\n",
       "      <th>3</th>\n",
       "      <td>region_code</td>\n",
       "      <td>0.0</td>\n",
       "      <td>52.0</td>\n",
       "      <td>52.0</td>\n",
       "      <td>26.388807</td>\n",
       "      <td>28.0</td>\n",
       "      <td>13.229871</td>\n",
       "      <td>-1.152664e-01</td>\n",
       "      <td>-0.867857</td>\n",
       "    </tr>\n",
       "    <tr>\n",
       "      <th>4</th>\n",
       "      <td>previously_insured</td>\n",
       "      <td>0.0</td>\n",
       "      <td>1.0</td>\n",
       "      <td>1.0</td>\n",
       "      <td>0.458210</td>\n",
       "      <td>0.0</td>\n",
       "      <td>0.498251</td>\n",
       "      <td>1.677471e-01</td>\n",
       "      <td>-1.971871</td>\n",
       "    </tr>\n",
       "    <tr>\n",
       "      <th>5</th>\n",
       "      <td>annual_premium</td>\n",
       "      <td>2630.0</td>\n",
       "      <td>540165.0</td>\n",
       "      <td>537535.0</td>\n",
       "      <td>30564.389581</td>\n",
       "      <td>31669.0</td>\n",
       "      <td>17213.132474</td>\n",
       "      <td>1.766087e+00</td>\n",
       "      <td>34.004569</td>\n",
       "    </tr>\n",
       "    <tr>\n",
       "      <th>6</th>\n",
       "      <td>policy_sales_channel</td>\n",
       "      <td>1.0</td>\n",
       "      <td>163.0</td>\n",
       "      <td>162.0</td>\n",
       "      <td>112.034295</td>\n",
       "      <td>133.0</td>\n",
       "      <td>54.203924</td>\n",
       "      <td>-9.000081e-01</td>\n",
       "      <td>-0.970810</td>\n",
       "    </tr>\n",
       "    <tr>\n",
       "      <th>7</th>\n",
       "      <td>vintage</td>\n",
       "      <td>10.0</td>\n",
       "      <td>299.0</td>\n",
       "      <td>289.0</td>\n",
       "      <td>154.347397</td>\n",
       "      <td>154.0</td>\n",
       "      <td>83.671194</td>\n",
       "      <td>3.029517e-03</td>\n",
       "      <td>-1.200688</td>\n",
       "    </tr>\n",
       "    <tr>\n",
       "      <th>8</th>\n",
       "      <td>response</td>\n",
       "      <td>0.0</td>\n",
       "      <td>1.0</td>\n",
       "      <td>1.0</td>\n",
       "      <td>0.122563</td>\n",
       "      <td>0.0</td>\n",
       "      <td>0.327935</td>\n",
       "      <td>2.301906e+00</td>\n",
       "      <td>3.298788</td>\n",
       "    </tr>\n",
       "  </tbody>\n",
       "</table>\n",
       "</div>"
      ],
      "text/plain": [
       "              attribute     min       max     range           mean    median  \\\n",
       "0                    id     1.0  381109.0  381108.0  190555.000000  190555.0   \n",
       "1                   age    20.0      85.0      65.0      38.822584      36.0   \n",
       "2       driving_license     0.0       1.0       1.0       0.997869       1.0   \n",
       "3           region_code     0.0      52.0      52.0      26.388807      28.0   \n",
       "4    previously_insured     0.0       1.0       1.0       0.458210       0.0   \n",
       "5        annual_premium  2630.0  540165.0  537535.0   30564.389581   31669.0   \n",
       "6  policy_sales_channel     1.0     163.0     162.0     112.034295     133.0   \n",
       "7               vintage    10.0     299.0     289.0     154.347397     154.0   \n",
       "8              response     0.0       1.0       1.0       0.122563       0.0   \n",
       "\n",
       "             std          skew    kurtosis  \n",
       "0  110016.691870  9.443274e-16   -1.200000  \n",
       "1      15.511591  6.725390e-01   -0.565655  \n",
       "2       0.046109 -2.159518e+01  464.354302  \n",
       "3      13.229871 -1.152664e-01   -0.867857  \n",
       "4       0.498251  1.677471e-01   -1.971871  \n",
       "5   17213.132474  1.766087e+00   34.004569  \n",
       "6      54.203924 -9.000081e-01   -0.970810  \n",
       "7      83.671194  3.029517e-03   -1.200688  \n",
       "8       0.327935  2.301906e+00    3.298788  "
      ]
     },
     "execution_count": 18,
     "metadata": {},
     "output_type": "execute_result"
    }
   ],
   "source": [
    "#Central Tendency - mean, median\n",
    "\n",
    "ct1 = pd.DataFrame(num_attributes.apply(np.mean)).T\n",
    "ct2 = pd.DataFrame(num_attributes.apply(np.median)).T\n",
    "\n",
    "# Dispersion - std, min, max, range, skew, kurtosis\n",
    "d1 = pd.DataFrame(num_attributes.apply(np.std)).T\n",
    "d2 = pd.DataFrame(num_attributes.apply(min)).T\n",
    "d3 = pd.DataFrame(num_attributes.apply(max)).T\n",
    "d4 = pd.DataFrame(num_attributes.apply(lambda x: x.max() - x.min())).T\n",
    "d5 = pd.DataFrame(num_attributes.apply(lambda x: x.skew())).T\n",
    "d6 = pd.DataFrame(num_attributes.apply(lambda x: x.kurtosis())).T\n",
    "\n",
    "#concatenate\n",
    "m = pd.concat([d2,d3,d4,ct1,ct2,d1,d5,d6]).T.reset_index()\n",
    "m.columns = ['attribute','min','max','range','mean','median','std','skew','kurtosis']\n",
    "m"
   ]
  },
  {
   "cell_type": "code",
   "execution_count": 19,
   "id": "54f88a0b",
   "metadata": {
    "ExecuteTime": {
     "end_time": "2024-08-25T18:30:27.638546Z",
     "start_time": "2024-08-25T18:30:27.633834Z"
    }
   },
   "outputs": [
    {
     "data": {
      "text/html": [
       "<div>\n",
       "<style scoped>\n",
       "    .dataframe tbody tr th:only-of-type {\n",
       "        vertical-align: middle;\n",
       "    }\n",
       "\n",
       "    .dataframe tbody tr th {\n",
       "        vertical-align: top;\n",
       "    }\n",
       "\n",
       "    .dataframe thead th {\n",
       "        text-align: right;\n",
       "    }\n",
       "</style>\n",
       "<table border=\"1\" class=\"dataframe\">\n",
       "  <thead>\n",
       "    <tr style=\"text-align: right;\">\n",
       "      <th></th>\n",
       "      <th>gender</th>\n",
       "      <th>vehicle_age</th>\n",
       "      <th>vehicle_damage</th>\n",
       "    </tr>\n",
       "  </thead>\n",
       "  <tbody>\n",
       "    <tr>\n",
       "      <th>0</th>\n",
       "      <td>Male</td>\n",
       "      <td>&gt; 2 Years</td>\n",
       "      <td>Yes</td>\n",
       "    </tr>\n",
       "    <tr>\n",
       "      <th>1</th>\n",
       "      <td>Male</td>\n",
       "      <td>1-2 Year</td>\n",
       "      <td>No</td>\n",
       "    </tr>\n",
       "    <tr>\n",
       "      <th>2</th>\n",
       "      <td>Male</td>\n",
       "      <td>&gt; 2 Years</td>\n",
       "      <td>Yes</td>\n",
       "    </tr>\n",
       "    <tr>\n",
       "      <th>3</th>\n",
       "      <td>Male</td>\n",
       "      <td>&lt; 1 Year</td>\n",
       "      <td>No</td>\n",
       "    </tr>\n",
       "    <tr>\n",
       "      <th>4</th>\n",
       "      <td>Female</td>\n",
       "      <td>&lt; 1 Year</td>\n",
       "      <td>No</td>\n",
       "    </tr>\n",
       "  </tbody>\n",
       "</table>\n",
       "</div>"
      ],
      "text/plain": [
       "   gender vehicle_age vehicle_damage\n",
       "0    Male   > 2 Years            Yes\n",
       "1    Male    1-2 Year             No\n",
       "2    Male   > 2 Years            Yes\n",
       "3    Male    < 1 Year             No\n",
       "4  Female    < 1 Year             No"
      ]
     },
     "execution_count": 19,
     "metadata": {},
     "output_type": "execute_result"
    }
   ],
   "source": [
    "cat_attributes.head()"
   ]
  },
  {
   "cell_type": "markdown",
   "id": "cd92e2cd",
   "metadata": {},
   "source": [
    "### 1.7.2 Categorical Attributes"
   ]
  },
  {
   "cell_type": "code",
   "execution_count": 20,
   "id": "2c76d415",
   "metadata": {
    "ExecuteTime": {
     "end_time": "2024-08-25T18:30:27.676709Z",
     "start_time": "2024-08-25T18:30:27.639643Z"
    }
   },
   "outputs": [
    {
     "data": {
      "text/plain": [
       "gender            2\n",
       "vehicle_age       3\n",
       "vehicle_damage    2\n",
       "dtype: int64"
      ]
     },
     "execution_count": 20,
     "metadata": {},
     "output_type": "execute_result"
    }
   ],
   "source": [
    "cat_attributes.apply(lambda x: x.unique().shape[0])"
   ]
  },
  {
   "cell_type": "code",
   "execution_count": 21,
   "id": "0283970c",
   "metadata": {
    "ExecuteTime": {
     "end_time": "2024-08-25T18:30:27.740781Z",
     "start_time": "2024-08-25T18:30:27.677963Z"
    }
   },
   "outputs": [
    {
     "data": {
      "text/html": [
       "<div>\n",
       "<style scoped>\n",
       "    .dataframe tbody tr th:only-of-type {\n",
       "        vertical-align: middle;\n",
       "    }\n",
       "\n",
       "    .dataframe tbody tr th {\n",
       "        vertical-align: top;\n",
       "    }\n",
       "\n",
       "    .dataframe thead th {\n",
       "        text-align: right;\n",
       "    }\n",
       "</style>\n",
       "<table border=\"1\" class=\"dataframe\">\n",
       "  <thead>\n",
       "    <tr style=\"text-align: right;\">\n",
       "      <th></th>\n",
       "      <th>gender</th>\n",
       "      <th>vehicle_age</th>\n",
       "      <th>vehicle_damage</th>\n",
       "    </tr>\n",
       "  </thead>\n",
       "  <tbody>\n",
       "    <tr>\n",
       "      <th>count</th>\n",
       "      <td>381109</td>\n",
       "      <td>381109</td>\n",
       "      <td>381109</td>\n",
       "    </tr>\n",
       "    <tr>\n",
       "      <th>unique</th>\n",
       "      <td>2</td>\n",
       "      <td>3</td>\n",
       "      <td>2</td>\n",
       "    </tr>\n",
       "    <tr>\n",
       "      <th>top</th>\n",
       "      <td>Male</td>\n",
       "      <td>1-2 Year</td>\n",
       "      <td>Yes</td>\n",
       "    </tr>\n",
       "    <tr>\n",
       "      <th>freq</th>\n",
       "      <td>206089</td>\n",
       "      <td>200316</td>\n",
       "      <td>192413</td>\n",
       "    </tr>\n",
       "  </tbody>\n",
       "</table>\n",
       "</div>"
      ],
      "text/plain": [
       "        gender vehicle_age vehicle_damage\n",
       "count   381109      381109         381109\n",
       "unique       2           3              2\n",
       "top       Male    1-2 Year            Yes\n",
       "freq    206089      200316         192413"
      ]
     },
     "execution_count": 21,
     "metadata": {},
     "output_type": "execute_result"
    }
   ],
   "source": [
    "cat_attributes.describe()"
   ]
  },
  {
   "cell_type": "code",
   "execution_count": 22,
   "id": "cdfab876",
   "metadata": {
    "ExecuteTime": {
     "end_time": "2024-08-25T18:30:27.744111Z",
     "start_time": "2024-08-25T18:30:27.741918Z"
    }
   },
   "outputs": [],
   "source": [
    "#sns.boxplot(x='age', y='response',data=df1)"
   ]
  },
  {
   "cell_type": "code",
   "execution_count": 23,
   "id": "d6d850b0",
   "metadata": {
    "ExecuteTime": {
     "end_time": "2024-08-25T18:30:28.263798Z",
     "start_time": "2024-08-25T18:30:27.744940Z"
    }
   },
   "outputs": [
    {
     "data": {
      "text/plain": [
       "<Axes: xlabel='response', ylabel='annual_premium'>"
      ]
     },
     "execution_count": 23,
     "metadata": {},
     "output_type": "execute_result"
    },
    {
     "data": {
      "image/png": "[encoded data removed]",
      "text/plain": [
       "<Figure size 640x480 with 1 Axes>"
      ]
     },
     "metadata": {},
     "output_type": "display_data"
    }
   ],
   "source": [
    "sns.boxplot(y='annual_premium', x='response',data=df1)"
   ]
  },
  {
   "cell_type": "code",
   "execution_count": 24,
   "id": "44e94a23",
   "metadata": {
    "ExecuteTime": {
     "end_time": "2024-08-25T18:30:28.268157Z",
     "start_time": "2024-08-25T18:30:28.265062Z"
    }
   },
   "outputs": [],
   "source": [
    "aux1= df1[df1['response']=='1']"
   ]
  },
  {
   "cell_type": "code",
   "execution_count": 25,
   "id": "7eb189a4",
   "metadata": {
    "ExecuteTime": {
     "end_time": "2024-08-25T18:30:28.356659Z",
     "start_time": "2024-08-25T18:30:28.269357Z"
    }
   },
   "outputs": [
    {
     "data": {
      "text/plain": [
       "<Axes: xlabel='age', ylabel='Count'>"
      ]
     },
     "execution_count": 25,
     "metadata": {},
     "output_type": "execute_result"
    },
    {
     "data": {
      "image/png": "[encoded data removed]",
      "text/plain": [
       "<Figure size 640x480 with 1 Axes>"
      ]
     },
     "metadata": {},
     "output_type": "display_data"
    }
   ],
   "source": [
    "sns.histplot(data = aux1, x = \"age\", kde = True,bins=10)"
   ]
  },
  {
   "cell_type": "code",
   "execution_count": 26,
   "id": "70942aad",
   "metadata": {
    "ExecuteTime": {
     "end_time": "2024-08-25T18:30:28.442072Z",
     "start_time": "2024-08-25T18:30:28.357972Z"
    }
   },
   "outputs": [
    {
     "data": {
      "text/plain": [
       "<Axes: xlabel='annual_premium', ylabel='Count'>"
      ]
     },
     "execution_count": 26,
     "metadata": {},
     "output_type": "execute_result"
    },
    {
     "data": {
      "image/png": "[encoded data removed]",
      "text/plain": [
       "<Figure size 640x480 with 1 Axes>"
      ]
     },
     "metadata": {},
     "output_type": "display_data"
    }
   ],
   "source": [
    "sns.histplot(data = aux1, x = \"annual_premium\", kde = True,bins=2)"
   ]
  },
  {
   "cell_type": "code",
   "execution_count": 27,
   "id": "5409fd25",
   "metadata": {
    "ExecuteTime": {
     "end_time": "2024-08-25T18:30:31.691240Z",
     "start_time": "2024-08-25T18:30:28.443229Z"
    },
    "scrolled": true
   },
   "outputs": [
    {
     "name": "stderr",
     "output_type": "stream",
     "text": [
      "/tmp/ipykernel_74973/22261754.py:3: FutureWarning: \n",
      "\n",
      "Passing `palette` without assigning `hue` is deprecated and will be removed in v0.14.0. Assign the `y` variable to `hue` and set `legend=False` for the same effect.\n",
      "\n",
      "  ax = sns.countplot(data = df1, y = 'gender', palette='colorblind',orient='y',ax = axs[0, 0]);\n",
      "/tmp/ipykernel_74973/22261754.py:9: FutureWarning: \n",
      "\n",
      "Passing `palette` without assigning `hue` is deprecated and will be removed in v0.14.0. Assign the `y` variable to `hue` and set `legend=False` for the same effect.\n",
      "\n",
      "  ax = sns.countplot(data = df1, y = 'driving_license', palette='colorblind',orient='y',ax = axs[0, 1]);\n",
      "/tmp/ipykernel_74973/22261754.py:14: FutureWarning: \n",
      "\n",
      "Passing `palette` without assigning `hue` is deprecated and will be removed in v0.14.0. Assign the `y` variable to `hue` and set `legend=False` for the same effect.\n",
      "\n",
      "  ax = sns.countplot(data = df1, y = 'vehicle_age', palette='colorblind',orient='y',ax = axs[1, 0]);\n",
      "/tmp/ipykernel_74973/22261754.py:20: FutureWarning: \n",
      "\n",
      "Passing `palette` without assigning `hue` is deprecated and will be removed in v0.14.0. Assign the `y` variable to `hue` and set `legend=False` for the same effect.\n",
      "\n",
      "  ax = sns.countplot(data = df1, y = 'vehicle_damage', palette='colorblind',orient='y',ax = axs[1, 1]);\n",
      "/tmp/ipykernel_74973/22261754.py:25: FutureWarning: \n",
      "\n",
      "Passing `palette` without assigning `hue` is deprecated and will be removed in v0.14.0. Assign the `y` variable to `hue` and set `legend=False` for the same effect.\n",
      "\n",
      "  ax = sns.countplot(data = df1, y = 'previously_insured', palette='colorblind',orient='y',ax = axs[2, 0]);\n",
      "/tmp/ipykernel_74973/22261754.py:30: FutureWarning: \n",
      "\n",
      "Passing `palette` without assigning `hue` is deprecated and will be removed in v0.14.0. Assign the `y` variable to `hue` and set `legend=False` for the same effect.\n",
      "\n",
      "  ax = sns.countplot(data = df1, y = 'response', palette='colorblind',orient='y',ax = axs[2, 1]);\n"
     ]
    },
    {
     "data": {
      "text/plain": [
       "[Text(0, 0, '12.3%')]"
      ]
     },
     "execution_count": 27,
     "metadata": {},
     "output_type": "execute_result"
    },
    {
     "data": {
      "image/png": "[encoded data removed]",
      "text/plain": [
       "<Figure size 2000x800 with 6 Axes>"
      ]
     },
     "metadata": {},
     "output_type": "display_data"
    }
   ],
   "source": [
    "fig, axs = plt.subplots(3, 2, figsize = (20, 8))\n",
    "#------------axs[0, 0]-----------------------------------------------------------------------------------------\n",
    "ax = sns.countplot(data = df1, y = 'gender', palette='colorblind',orient='y',ax = axs[0, 0]);\n",
    "total = df1['response'].count()\n",
    "ax.bar_label(ax.containers[0], fmt=lambda x: f'{(x/total)*100:0.1f}%')\n",
    "ax.bar_label(ax.containers[1], fmt=lambda x: f'{(x/total)*100:0.1f}%')\n",
    "#------------axs[0, 1]-----------------------------------------------------------------------------------------\n",
    "\n",
    "ax = sns.countplot(data = df1, y = 'driving_license', palette='colorblind',orient='y',ax = axs[0, 1]);\n",
    "total = df1['response'].count()\n",
    "ax.bar_label(ax.containers[0], fmt=lambda x: f'{(x/total)*100:0.1f}%')\n",
    "ax.bar_label(ax.containers[1], fmt=lambda x: f'{(x/total)*100:0.1f}%')\n",
    "#------------axs[1, 0]-----------------------------------------------------------------------------------------\n",
    "ax = sns.countplot(data = df1, y = 'vehicle_age', palette='colorblind',orient='y',ax = axs[1, 0]);\n",
    "total = df1['response'].count()\n",
    "ax.bar_label(ax.containers[0], fmt=lambda x: f'{(x/total)*100:0.1f}%')\n",
    "ax.bar_label(ax.containers[1], fmt=lambda x: f'{(x/total)*100:0.1f}%')\n",
    "ax.bar_label(ax.containers[2], fmt=lambda x: f'{(x/total)*100:0.1f}%')\n",
    "#------------axs[1, 1]-----------------------------------------------------------------------------------------\n",
    "ax = sns.countplot(data = df1, y = 'vehicle_damage', palette='colorblind',orient='y',ax = axs[1, 1]);\n",
    "total = df1['response'].count()\n",
    "ax.bar_label(ax.containers[0], fmt=lambda x: f'{(x/total)*100:0.1f}%')\n",
    "ax.bar_label(ax.containers[1], fmt=lambda x: f'{(x/total)*100:0.1f}%')\n",
    "#------------axs[2, 0]-----------------------------------------------------------------------------------------\n",
    "ax = sns.countplot(data = df1, y = 'previously_insured', palette='colorblind',orient='y',ax = axs[2, 0]);\n",
    "total = df1['response'].count()\n",
    "ax.bar_label(ax.containers[0], fmt=lambda x: f'{(x/total)*100:0.1f}%')\n",
    "ax.bar_label(ax.containers[1], fmt=lambda x: f'{(x/total)*100:0.1f}%')\n",
    "#------------axs[2, 1]-----------------------------------------------------------------------------------------\n",
    "ax = sns.countplot(data = df1, y = 'response', palette='colorblind',orient='y',ax = axs[2, 1]);\n",
    "total = df1['response'].count()\n",
    "ax.bar_label(ax.containers[0], fmt=lambda x: f'{(x/total)*100:0.1f}%')\n",
    "ax.bar_label(ax.containers[1], fmt=lambda x: f'{(x/total)*100:0.1f}%')"
   ]
  },
  {
   "cell_type": "markdown",
   "id": "b2e2bed2",
   "metadata": {},
   "source": [
    "# 2.0. FEATURE ENGINEERING"
   ]
  },
  {
   "cell_type": "code",
   "execution_count": 28,
   "id": "eda67981",
   "metadata": {
    "ExecuteTime": {
     "end_time": "2024-08-25T18:30:31.700144Z",
     "start_time": "2024-08-25T18:30:31.692179Z"
    },
    "scrolled": true
   },
   "outputs": [
    {
     "data": {
      "image/jpeg": "[encoded data removed]",
      "text/plain": [
       "<IPython.core.display.Image object>"
      ]
     },
     "execution_count": 28,
     "metadata": {
      "image/jpeg": {
       "height": 620,
       "width": 1024
      }
     },
     "output_type": "execute_result"
    }
   ],
   "source": [
    "Image( '../img/mind_map.jpg', width=1024, height=620 )"
   ]
  },
  {
   "cell_type": "markdown",
   "id": "177f7657",
   "metadata": {},
   "source": [
    "## 2.1. Hypothesis"
   ]
  },
  {
   "cell_type": "markdown",
   "id": "e05072ae",
   "metadata": {},
   "source": [
    "1. Customers aged >=40 years are more willing to have car insurance.\n",
    "2. Customers who already have vehicle insurance are not interested in new vehicle insurance.\n",
    "3. Customers who have had a vehicle for less than 1 year should want vehicle insurance more than customers who have owned a vehicle for longer.\n",
    "4. Customers who have been associated with the company for a long time may want car insurance.\n",
    "5. Clients who damaged their cars are more likely to want the insurance.\n",
    "6. Woman are most likely to want a vehicle insurance.\n",
    "7. Customers who have region code 28 may want car insurance more than other regions.\n",
    "8. Customers who have policy_sales_channel = 152 may want car insurance more than other policy_sales_channel\n",
    "9. People with +40k annual premium should want the insurance"
   ]
  },
  {
   "cell_type": "markdown",
   "id": "94d5db7f",
   "metadata": {},
   "source": [
    "## 2.2. Feature Engineering"
   ]
  },
  {
   "cell_type": "code",
   "execution_count": 29,
   "id": "26c84208",
   "metadata": {
    "ExecuteTime": {
     "end_time": "2024-08-25T18:30:31.915992Z",
     "start_time": "2024-08-25T18:30:31.701792Z"
    }
   },
   "outputs": [],
   "source": [
    "df2 = df1.copy()"
   ]
  },
  {
   "cell_type": "code",
   "execution_count": 30,
   "id": "a34f1f13",
   "metadata": {
    "ExecuteTime": {
     "end_time": "2024-08-25T18:30:32.120820Z",
     "start_time": "2024-08-25T18:30:31.918737Z"
    }
   },
   "outputs": [
    {
     "data": {
      "text/html": [
       "<div>\n",
       "<style scoped>\n",
       "    .dataframe tbody tr th:only-of-type {\n",
       "        vertical-align: middle;\n",
       "    }\n",
       "\n",
       "    .dataframe tbody tr th {\n",
       "        vertical-align: top;\n",
       "    }\n",
       "\n",
       "    .dataframe thead th {\n",
       "        text-align: right;\n",
       "    }\n",
       "</style>\n",
       "<table border=\"1\" class=\"dataframe\">\n",
       "  <thead>\n",
       "    <tr style=\"text-align: right;\">\n",
       "      <th></th>\n",
       "      <th>id</th>\n",
       "      <th>gender</th>\n",
       "      <th>age</th>\n",
       "      <th>driving_license</th>\n",
       "      <th>region_code</th>\n",
       "      <th>previously_insured</th>\n",
       "      <th>vehicle_age</th>\n",
       "      <th>vehicle_damage</th>\n",
       "      <th>annual_premium</th>\n",
       "      <th>policy_sales_channel</th>\n",
       "      <th>vintage</th>\n",
       "      <th>response</th>\n",
       "    </tr>\n",
       "  </thead>\n",
       "  <tbody>\n",
       "    <tr>\n",
       "      <th>0</th>\n",
       "      <td>1</td>\n",
       "      <td>Male</td>\n",
       "      <td>44</td>\n",
       "      <td>1</td>\n",
       "      <td>28.0</td>\n",
       "      <td>0</td>\n",
       "      <td>&gt; 2 Years</td>\n",
       "      <td>Yes</td>\n",
       "      <td>40454.0</td>\n",
       "      <td>26.0</td>\n",
       "      <td>217</td>\n",
       "      <td>1</td>\n",
       "    </tr>\n",
       "    <tr>\n",
       "      <th>1</th>\n",
       "      <td>2</td>\n",
       "      <td>Male</td>\n",
       "      <td>76</td>\n",
       "      <td>1</td>\n",
       "      <td>3.0</td>\n",
       "      <td>0</td>\n",
       "      <td>1-2 Year</td>\n",
       "      <td>No</td>\n",
       "      <td>33536.0</td>\n",
       "      <td>26.0</td>\n",
       "      <td>183</td>\n",
       "      <td>0</td>\n",
       "    </tr>\n",
       "    <tr>\n",
       "      <th>2</th>\n",
       "      <td>3</td>\n",
       "      <td>Male</td>\n",
       "      <td>47</td>\n",
       "      <td>1</td>\n",
       "      <td>28.0</td>\n",
       "      <td>0</td>\n",
       "      <td>&gt; 2 Years</td>\n",
       "      <td>Yes</td>\n",
       "      <td>38294.0</td>\n",
       "      <td>26.0</td>\n",
       "      <td>27</td>\n",
       "      <td>1</td>\n",
       "    </tr>\n",
       "    <tr>\n",
       "      <th>3</th>\n",
       "      <td>4</td>\n",
       "      <td>Male</td>\n",
       "      <td>21</td>\n",
       "      <td>1</td>\n",
       "      <td>11.0</td>\n",
       "      <td>1</td>\n",
       "      <td>&lt; 1 Year</td>\n",
       "      <td>No</td>\n",
       "      <td>28619.0</td>\n",
       "      <td>152.0</td>\n",
       "      <td>203</td>\n",
       "      <td>0</td>\n",
       "    </tr>\n",
       "    <tr>\n",
       "      <th>4</th>\n",
       "      <td>5</td>\n",
       "      <td>Female</td>\n",
       "      <td>29</td>\n",
       "      <td>1</td>\n",
       "      <td>41.0</td>\n",
       "      <td>1</td>\n",
       "      <td>&lt; 1 Year</td>\n",
       "      <td>No</td>\n",
       "      <td>27496.0</td>\n",
       "      <td>152.0</td>\n",
       "      <td>39</td>\n",
       "      <td>0</td>\n",
       "    </tr>\n",
       "  </tbody>\n",
       "</table>\n",
       "</div>"
      ],
      "text/plain": [
       "   id  gender  age  driving_license  region_code  previously_insured  \\\n",
       "0   1    Male   44                1         28.0                   0   \n",
       "1   2    Male   76                1          3.0                   0   \n",
       "2   3    Male   47                1         28.0                   0   \n",
       "3   4    Male   21                1         11.0                   1   \n",
       "4   5  Female   29                1         41.0                   1   \n",
       "\n",
       "  vehicle_age vehicle_damage  annual_premium  policy_sales_channel  vintage  \\\n",
       "0   > 2 Years            Yes         40454.0                  26.0      217   \n",
       "1    1-2 Year             No         33536.0                  26.0      183   \n",
       "2   > 2 Years            Yes         38294.0                  26.0       27   \n",
       "3    < 1 Year             No         28619.0                 152.0      203   \n",
       "4    < 1 Year             No         27496.0                 152.0       39   \n",
       "\n",
       "   response  \n",
       "0         1  \n",
       "1         0  \n",
       "2         1  \n",
       "3         0  \n",
       "4         0  "
      ]
     },
     "execution_count": 30,
     "metadata": {},
     "output_type": "execute_result"
    }
   ],
   "source": [
    "df2.head()"
   ]
  },
  {
   "cell_type": "code",
   "execution_count": 31,
   "id": "f331c42f",
   "metadata": {
    "ExecuteTime": {
     "end_time": "2024-08-25T18:30:32.351498Z",
     "start_time": "2024-08-25T18:30:32.130165Z"
    }
   },
   "outputs": [],
   "source": [
    "#vehicle_age\n",
    "df2['vehicle_age'] = df2['vehicle_age'].apply(lambda x: 'over_2_years'  if x == '> 2 Years' else 'between_1_2_years' if x == '1-2 Year' else 'below_1_year')"
   ]
  },
  {
   "cell_type": "code",
   "execution_count": 32,
   "id": "04206f24",
   "metadata": {
    "ExecuteTime": {
     "end_time": "2024-08-25T18:30:32.477477Z",
     "start_time": "2024-08-25T18:30:32.352739Z"
    }
   },
   "outputs": [],
   "source": [
    "#vehicle_damage\n",
    "df2['vehicle_damage'] = df2['vehicle_damage'].apply(lambda x: 1  if x == 'Yes' else 0)"
   ]
  },
  {
   "cell_type": "code",
   "execution_count": 33,
   "id": "4a2b174f",
   "metadata": {
    "ExecuteTime": {
     "end_time": "2024-08-25T18:30:32.614391Z",
     "start_time": "2024-08-25T18:30:32.478543Z"
    }
   },
   "outputs": [
    {
     "data": {
      "text/html": [
       "<div>\n",
       "<style scoped>\n",
       "    .dataframe tbody tr th:only-of-type {\n",
       "        vertical-align: middle;\n",
       "    }\n",
       "\n",
       "    .dataframe tbody tr th {\n",
       "        vertical-align: top;\n",
       "    }\n",
       "\n",
       "    .dataframe thead th {\n",
       "        text-align: right;\n",
       "    }\n",
       "</style>\n",
       "<table border=\"1\" class=\"dataframe\">\n",
       "  <thead>\n",
       "    <tr style=\"text-align: right;\">\n",
       "      <th></th>\n",
       "      <th>id</th>\n",
       "      <th>gender</th>\n",
       "      <th>age</th>\n",
       "      <th>driving_license</th>\n",
       "      <th>region_code</th>\n",
       "      <th>previously_insured</th>\n",
       "      <th>vehicle_age</th>\n",
       "      <th>vehicle_damage</th>\n",
       "      <th>annual_premium</th>\n",
       "      <th>policy_sales_channel</th>\n",
       "      <th>vintage</th>\n",
       "      <th>response</th>\n",
       "    </tr>\n",
       "  </thead>\n",
       "  <tbody>\n",
       "    <tr>\n",
       "      <th>0</th>\n",
       "      <td>1</td>\n",
       "      <td>Male</td>\n",
       "      <td>44</td>\n",
       "      <td>1</td>\n",
       "      <td>28.0</td>\n",
       "      <td>0</td>\n",
       "      <td>over_2_years</td>\n",
       "      <td>1</td>\n",
       "      <td>40454.0</td>\n",
       "      <td>26.0</td>\n",
       "      <td>217</td>\n",
       "      <td>1</td>\n",
       "    </tr>\n",
       "    <tr>\n",
       "      <th>1</th>\n",
       "      <td>2</td>\n",
       "      <td>Male</td>\n",
       "      <td>76</td>\n",
       "      <td>1</td>\n",
       "      <td>3.0</td>\n",
       "      <td>0</td>\n",
       "      <td>between_1_2_years</td>\n",
       "      <td>0</td>\n",
       "      <td>33536.0</td>\n",
       "      <td>26.0</td>\n",
       "      <td>183</td>\n",
       "      <td>0</td>\n",
       "    </tr>\n",
       "    <tr>\n",
       "      <th>2</th>\n",
       "      <td>3</td>\n",
       "      <td>Male</td>\n",
       "      <td>47</td>\n",
       "      <td>1</td>\n",
       "      <td>28.0</td>\n",
       "      <td>0</td>\n",
       "      <td>over_2_years</td>\n",
       "      <td>1</td>\n",
       "      <td>38294.0</td>\n",
       "      <td>26.0</td>\n",
       "      <td>27</td>\n",
       "      <td>1</td>\n",
       "    </tr>\n",
       "    <tr>\n",
       "      <th>3</th>\n",
       "      <td>4</td>\n",
       "      <td>Male</td>\n",
       "      <td>21</td>\n",
       "      <td>1</td>\n",
       "      <td>11.0</td>\n",
       "      <td>1</td>\n",
       "      <td>below_1_year</td>\n",
       "      <td>0</td>\n",
       "      <td>28619.0</td>\n",
       "      <td>152.0</td>\n",
       "      <td>203</td>\n",
       "      <td>0</td>\n",
       "    </tr>\n",
       "    <tr>\n",
       "      <th>4</th>\n",
       "      <td>5</td>\n",
       "      <td>Female</td>\n",
       "      <td>29</td>\n",
       "      <td>1</td>\n",
       "      <td>41.0</td>\n",
       "      <td>1</td>\n",
       "      <td>below_1_year</td>\n",
       "      <td>0</td>\n",
       "      <td>27496.0</td>\n",
       "      <td>152.0</td>\n",
       "      <td>39</td>\n",
       "      <td>0</td>\n",
       "    </tr>\n",
       "  </tbody>\n",
       "</table>\n",
       "</div>"
      ],
      "text/plain": [
       "   id  gender  age  driving_license  region_code  previously_insured  \\\n",
       "0   1    Male   44                1         28.0                   0   \n",
       "1   2    Male   76                1          3.0                   0   \n",
       "2   3    Male   47                1         28.0                   0   \n",
       "3   4    Male   21                1         11.0                   1   \n",
       "4   5  Female   29                1         41.0                   1   \n",
       "\n",
       "         vehicle_age  vehicle_damage  annual_premium  policy_sales_channel  \\\n",
       "0       over_2_years               1         40454.0                  26.0   \n",
       "1  between_1_2_years               0         33536.0                  26.0   \n",
       "2       over_2_years               1         38294.0                  26.0   \n",
       "3       below_1_year               0         28619.0                 152.0   \n",
       "4       below_1_year               0         27496.0                 152.0   \n",
       "\n",
       "   vintage  response  \n",
       "0      217         1  \n",
       "1      183         0  \n",
       "2       27         1  \n",
       "3      203         0  \n",
       "4       39         0  "
      ]
     },
     "execution_count": 33,
     "metadata": {},
     "output_type": "execute_result"
    }
   ],
   "source": [
    "df2.head()"
   ]
  },
  {
   "cell_type": "markdown",
   "id": "75aab06f",
   "metadata": {},
   "source": [
    "# 3.0. DATA FILTERING"
   ]
  },
  {
   "cell_type": "code",
   "execution_count": 34,
   "id": "32bc731a",
   "metadata": {
    "ExecuteTime": {
     "end_time": "2024-08-25T18:30:33.159840Z",
     "start_time": "2024-08-25T18:30:32.617003Z"
    }
   },
   "outputs": [],
   "source": [
    "# Since we don't see any issues or discrepancies in data we will skip this step\n",
    "df3 = df2.copy()"
   ]
  },
  {
   "cell_type": "markdown",
   "id": "7d2c4a0f",
   "metadata": {},
   "source": [
    "# 4.0. EDA(Exploratory Data Analysis )"
   ]
  },
  {
   "cell_type": "code",
   "execution_count": 35,
   "id": "f3ceb3dd",
   "metadata": {
    "ExecuteTime": {
     "end_time": "2024-08-25T18:30:33.213720Z",
     "start_time": "2024-08-25T18:30:33.161068Z"
    }
   },
   "outputs": [],
   "source": [
    "df4 = df3.copy()"
   ]
  },
  {
   "cell_type": "markdown",
   "id": "d512d406",
   "metadata": {},
   "source": [
    "## 4.1. Univariate Analysis"
   ]
  },
  {
   "cell_type": "code",
   "execution_count": 36,
   "id": "3132dd5a",
   "metadata": {
    "ExecuteTime": {
     "end_time": "2024-08-25T18:30:33.418133Z",
     "start_time": "2024-08-25T18:30:33.214790Z"
    }
   },
   "outputs": [
    {
     "data": {
      "text/plain": [
       "Index(['id', 'gender', 'age', 'driving_license', 'region_code',\n",
       "       'previously_insured', 'vehicle_age', 'vehicle_damage', 'annual_premium',\n",
       "       'policy_sales_channel', 'vintage', 'response'],\n",
       "      dtype='object')"
      ]
     },
     "execution_count": 36,
     "metadata": {},
     "output_type": "execute_result"
    }
   ],
   "source": [
    "df4.columns"
   ]
  },
  {
   "cell_type": "markdown",
   "id": "973523f5",
   "metadata": {},
   "source": [
    "### gender"
   ]
  },
  {
   "cell_type": "markdown",
   "id": "f653e279",
   "metadata": {
    "ExecuteTime": {
     "end_time": "2024-07-06T18:09:35.988758Z",
     "start_time": "2024-07-06T18:09:35.372202Z"
    }
   },
   "source": [
    "### age\n"
   ]
  },
  {
   "cell_type": "code",
   "execution_count": 37,
   "id": "abe949a7",
   "metadata": {
    "ExecuteTime": {
     "end_time": "2024-08-25T18:30:34.087374Z",
     "start_time": "2024-08-25T18:30:33.420654Z"
    }
   },
   "outputs": [
    {
     "data": {
      "text/plain": [
       "<Axes: xlabel='response', ylabel='age'>"
      ]
     },
     "execution_count": 37,
     "metadata": {},
     "output_type": "execute_result"
    },
    {
     "data": {
      "image/png": "[encoded data removed]",
      "text/plain": [
       "<Figure size 640x480 with 1 Axes>"
      ]
     },
     "metadata": {},
     "output_type": "display_data"
    }
   ],
   "source": [
    "sns.boxplot(x='response', y ='age', data=df4)"
   ]
  },
  {
   "cell_type": "code",
   "execution_count": 38,
   "id": "1b60306c",
   "metadata": {
    "ExecuteTime": {
     "end_time": "2024-08-25T18:30:34.356929Z",
     "start_time": "2024-08-25T18:30:34.088591Z"
    }
   },
   "outputs": [
    {
     "data": {
      "text/plain": [
       "<Axes: xlabel='age', ylabel='Count'>"
      ]
     },
     "execution_count": 38,
     "metadata": {},
     "output_type": "execute_result"
    },
    {
     "data": {
      "image/png": "[encoded data removed]",
      "text/plain": [
       "<Figure size 640x480 with 1 Axes>"
      ]
     },
     "metadata": {},
     "output_type": "display_data"
    }
   ],
   "source": [
    "aux00 = df4.loc[df4['response'] == 0, 'age']\n",
    "sns.histplot(data = aux00)"
   ]
  },
  {
   "cell_type": "code",
   "execution_count": 39,
   "id": "16edc0c9",
   "metadata": {
    "ExecuteTime": {
     "end_time": "2024-08-25T18:30:34.360145Z",
     "start_time": "2024-08-25T18:30:34.358056Z"
    }
   },
   "outputs": [],
   "source": [
    "#Interpretacao do histplot\n",
    "# Olhar shape e amplitude. A amplitude  das pessoas que nao tem interesse tem uma concentracao grande no inicio ( comportamento semelhante a poisson).\n",
    "#O boxplot tem o primeiro quartil (25%) na casa dos 25 anos, mediana em torno de 33."
   ]
  },
  {
   "cell_type": "code",
   "execution_count": 40,
   "id": "bea161b9",
   "metadata": {
    "ExecuteTime": {
     "end_time": "2024-08-25T18:30:34.752325Z",
     "start_time": "2024-08-25T18:30:34.361423Z"
    }
   },
   "outputs": [
    {
     "data": {
      "text/plain": [
       "<Axes: xlabel='age', ylabel='Count'>"
      ]
     },
     "execution_count": 40,
     "metadata": {},
     "output_type": "execute_result"
    },
    {
     "data": {
      "image/png": "[encoded data removed]",
      "text/plain": [
       "<Figure size 640x480 with 1 Axes>"
      ]
     },
     "metadata": {},
     "output_type": "display_data"
    }
   ],
   "source": [
    "aux00 = df4.loc[df4['response'] == 1, 'age']\n",
    "sns.histplot(data = aux00)"
   ]
  },
  {
   "cell_type": "code",
   "execution_count": 41,
   "id": "85d4ef8b",
   "metadata": {
    "ExecuteTime": {
     "end_time": "2024-08-25T18:30:34.792208Z",
     "start_time": "2024-08-25T18:30:34.753524Z"
    }
   },
   "outputs": [],
   "source": [
    "#Interpretacao do histplot\n",
    "# Olhar shape e amplitude. A amplitude  das pessoas que  tem interesse segue uma normal e se concentra entre 40-50 anos, \n",
    "# mas a dimensao e diferente das pessoas que nao tem interesse, quase 14 vezes menos o valor das pessoas nao interessadas (pode ser problema)\n",
    "# O fenomeno esta mais represetnado com pessoas que nao tem interesse dos que as que tem interesse."
   ]
  },
  {
   "cell_type": "markdown",
   "id": "cd0165c3",
   "metadata": {},
   "source": [
    "### driving_license"
   ]
  },
  {
   "cell_type": "code",
   "execution_count": 42,
   "id": "e5d8dc94",
   "metadata": {
    "ExecuteTime": {
     "end_time": "2024-08-25T18:30:35.174006Z",
     "start_time": "2024-08-25T18:30:34.793376Z"
    }
   },
   "outputs": [
    {
     "data": {
      "text/html": [
       "<div>\n",
       "<style scoped>\n",
       "    .dataframe tbody tr th:only-of-type {\n",
       "        vertical-align: middle;\n",
       "    }\n",
       "\n",
       "    .dataframe tbody tr th {\n",
       "        vertical-align: top;\n",
       "    }\n",
       "\n",
       "    .dataframe thead th {\n",
       "        text-align: right;\n",
       "    }\n",
       "</style>\n",
       "<table border=\"1\" class=\"dataframe\">\n",
       "  <thead>\n",
       "    <tr style=\"text-align: right;\">\n",
       "      <th></th>\n",
       "      <th>response</th>\n",
       "      <th>driving_license</th>\n",
       "      <th>driving_license_perc</th>\n",
       "    </tr>\n",
       "  </thead>\n",
       "  <tbody>\n",
       "    <tr>\n",
       "      <th>0</th>\n",
       "      <td>0</td>\n",
       "      <td>333628</td>\n",
       "      <td>0.877283</td>\n",
       "    </tr>\n",
       "    <tr>\n",
       "      <th>1</th>\n",
       "      <td>1</td>\n",
       "      <td>46669</td>\n",
       "      <td>0.122717</td>\n",
       "    </tr>\n",
       "  </tbody>\n",
       "</table>\n",
       "</div>"
      ],
      "text/plain": [
       "   response  driving_license  driving_license_perc\n",
       "0         0           333628              0.877283\n",
       "1         1            46669              0.122717"
      ]
     },
     "execution_count": 42,
     "metadata": {},
     "output_type": "execute_result"
    }
   ],
   "source": [
    "aux = df4[['driving_license','response']].groupby('response').sum().reset_index()\n",
    "aux.head()\n",
    "aux['driving_license_perc'] = aux['driving_license']/ aux['driving_license'].sum()\n",
    "aux"
   ]
  },
  {
   "cell_type": "code",
   "execution_count": 43,
   "id": "afddaa8f",
   "metadata": {
    "ExecuteTime": {
     "end_time": "2024-08-25T18:30:35.348639Z",
     "start_time": "2024-08-25T18:30:35.175243Z"
    }
   },
   "outputs": [],
   "source": [
    "#nao da pra ter muita informacao se a variavel e discriminativa ou nao. EMbora 87% nao tem intencao \n",
    "#de ter seguro de carro precisamos szaber quem sao essas pessoas, anual premium menor? menores de idade?\n"
   ]
  },
  {
   "cell_type": "markdown",
   "id": "b59b4be3",
   "metadata": {},
   "source": [
    "### region_code"
   ]
  },
  {
   "cell_type": "code",
   "execution_count": 44,
   "id": "dea27bda",
   "metadata": {
    "ExecuteTime": {
     "end_time": "2024-08-25T18:30:35.694080Z",
     "start_time": "2024-08-25T18:30:35.351172Z"
    }
   },
   "outputs": [
    {
     "data": {
      "text/plain": [
       "<Axes: xlabel='region_code', ylabel='id'>"
      ]
     },
     "execution_count": 44,
     "metadata": {},
     "output_type": "execute_result"
    },
    {
     "data": {
      "image/png": "[encoded data removed]",
      "text/plain": [
       "<Figure size 640x480 with 1 Axes>"
      ]
     },
     "metadata": {},
     "output_type": "display_data"
    }
   ],
   "source": [
    "aux0 = df4[['id','region_code','response']].groupby(['region_code','response']).count().reset_index()\n",
    "sns.scatterplot(x='region_code', y='id', hue ='response',data=aux0)"
   ]
  },
  {
   "cell_type": "code",
   "execution_count": 45,
   "id": "7037957e",
   "metadata": {
    "ExecuteTime": {
     "end_time": "2024-08-25T18:30:35.714436Z",
     "start_time": "2024-08-25T18:30:35.695315Z"
    }
   },
   "outputs": [],
   "source": [
    "#a variavel sozinha parece nao ajudar muito, os dados estao muito embolados."
   ]
  },
  {
   "cell_type": "markdown",
   "id": "21187226",
   "metadata": {},
   "source": [
    "### previously_insured"
   ]
  },
  {
   "cell_type": "code",
   "execution_count": 46,
   "id": "d579c28f",
   "metadata": {
    "ExecuteTime": {
     "end_time": "2024-08-25T18:30:35.997386Z",
     "start_time": "2024-08-25T18:30:35.715607Z"
    }
   },
   "outputs": [
    {
     "data": {
      "text/html": [
       "<div>\n",
       "<style scoped>\n",
       "    .dataframe tbody tr th:only-of-type {\n",
       "        vertical-align: middle;\n",
       "    }\n",
       "\n",
       "    .dataframe tbody tr th {\n",
       "        vertical-align: top;\n",
       "    }\n",
       "\n",
       "    .dataframe thead th {\n",
       "        text-align: right;\n",
       "    }\n",
       "</style>\n",
       "<table border=\"1\" class=\"dataframe\">\n",
       "  <thead>\n",
       "    <tr style=\"text-align: right;\">\n",
       "      <th>response</th>\n",
       "      <th>0</th>\n",
       "      <th>1</th>\n",
       "    </tr>\n",
       "    <tr>\n",
       "      <th>previously_insured</th>\n",
       "      <th></th>\n",
       "      <th></th>\n",
       "    </tr>\n",
       "  </thead>\n",
       "  <tbody>\n",
       "    <tr>\n",
       "      <th>0</th>\n",
       "      <td>0.774546</td>\n",
       "      <td>0.225454</td>\n",
       "    </tr>\n",
       "    <tr>\n",
       "      <th>1</th>\n",
       "      <td>0.999095</td>\n",
       "      <td>0.000905</td>\n",
       "    </tr>\n",
       "  </tbody>\n",
       "</table>\n",
       "</div>"
      ],
      "text/plain": [
       "response                   0         1\n",
       "previously_insured                    \n",
       "0                   0.774546  0.225454\n",
       "1                   0.999095  0.000905"
      ]
     },
     "execution_count": 46,
     "metadata": {},
     "output_type": "execute_result"
    }
   ],
   "source": [
    "#tabela de contingencia( temos dados apenas sim ou nao)\n",
    "pd.crosstab(df4['previously_insured'],df4['response']).apply(lambda x: x/x.sum(), axis =1)"
   ]
  },
  {
   "cell_type": "code",
   "execution_count": 47,
   "id": "e4574cde",
   "metadata": {
    "ExecuteTime": {
     "end_time": "2024-08-25T18:30:36.085311Z",
     "start_time": "2024-08-25T18:30:35.998646Z"
    }
   },
   "outputs": [],
   "source": [
    "# quase todo mundo que ja tem seguro de carro (99%) nao querem outro."
   ]
  },
  {
   "cell_type": "markdown",
   "id": "e4458cec",
   "metadata": {},
   "source": [
    "### vehicle_age"
   ]
  },
  {
   "cell_type": "code",
   "execution_count": 48,
   "id": "378eaa71",
   "metadata": {
    "ExecuteTime": {
     "end_time": "2024-08-25T18:30:36.299649Z",
     "start_time": "2024-08-25T18:30:36.086565Z"
    }
   },
   "outputs": [
    {
     "data": {
      "text/html": [
       "<div>\n",
       "<style scoped>\n",
       "    .dataframe tbody tr th:only-of-type {\n",
       "        vertical-align: middle;\n",
       "    }\n",
       "\n",
       "    .dataframe tbody tr th {\n",
       "        vertical-align: top;\n",
       "    }\n",
       "\n",
       "    .dataframe thead th {\n",
       "        text-align: right;\n",
       "    }\n",
       "</style>\n",
       "<table border=\"1\" class=\"dataframe\">\n",
       "  <thead>\n",
       "    <tr style=\"text-align: right;\">\n",
       "      <th></th>\n",
       "      <th>vehicle_age</th>\n",
       "      <th>response</th>\n",
       "      <th>proportion</th>\n",
       "    </tr>\n",
       "  </thead>\n",
       "  <tbody>\n",
       "    <tr>\n",
       "      <th>0</th>\n",
       "      <td>between_1_2_years</td>\n",
       "      <td>0</td>\n",
       "      <td>0.434285</td>\n",
       "    </tr>\n",
       "    <tr>\n",
       "      <th>1</th>\n",
       "      <td>below_1_year</td>\n",
       "      <td>0</td>\n",
       "      <td>0.413488</td>\n",
       "    </tr>\n",
       "    <tr>\n",
       "      <th>2</th>\n",
       "      <td>between_1_2_years</td>\n",
       "      <td>1</td>\n",
       "      <td>0.091328</td>\n",
       "    </tr>\n",
       "    <tr>\n",
       "      <th>3</th>\n",
       "      <td>over_2_years</td>\n",
       "      <td>0</td>\n",
       "      <td>0.029663</td>\n",
       "    </tr>\n",
       "    <tr>\n",
       "      <th>4</th>\n",
       "      <td>below_1_year</td>\n",
       "      <td>1</td>\n",
       "      <td>0.018897</td>\n",
       "    </tr>\n",
       "    <tr>\n",
       "      <th>5</th>\n",
       "      <td>over_2_years</td>\n",
       "      <td>1</td>\n",
       "      <td>0.012338</td>\n",
       "    </tr>\n",
       "  </tbody>\n",
       "</table>\n",
       "</div>"
      ],
      "text/plain": [
       "         vehicle_age  response  proportion\n",
       "0  between_1_2_years         0    0.434285\n",
       "1       below_1_year         0    0.413488\n",
       "2  between_1_2_years         1    0.091328\n",
       "3       over_2_years         0    0.029663\n",
       "4       below_1_year         1    0.018897\n",
       "5       over_2_years         1    0.012338"
      ]
     },
     "execution_count": 48,
     "metadata": {},
     "output_type": "execute_result"
    }
   ],
   "source": [
    "df4[['vehicle_age','response']].value_counts(normalize=True).reset_index()"
   ]
  },
  {
   "cell_type": "code",
   "execution_count": 49,
   "id": "6a531844",
   "metadata": {
    "ExecuteTime": {
     "end_time": "2024-08-25T18:30:36.464785Z",
     "start_time": "2024-08-25T18:30:36.300951Z"
    }
   },
   "outputs": [],
   "source": [
    "#temos uma discrepancia grande para veiculos >1 ano, entre 1 e 2 anos, \n",
    "#porem para veiculos acima de 2 anos nao temos uma discrepancia grande entre pessoas que querem e pessoas que nao querem o seguro"
   ]
  },
  {
   "cell_type": "markdown",
   "id": "a6bff1d3",
   "metadata": {},
   "source": [
    "### vehicle_damage"
   ]
  },
  {
   "cell_type": "markdown",
   "id": "7a689710",
   "metadata": {},
   "source": [
    "### annual_premium"
   ]
  },
  {
   "cell_type": "code",
   "execution_count": 50,
   "id": "b6a83377",
   "metadata": {
    "ExecuteTime": {
     "end_time": "2024-08-25T18:30:37.168720Z",
     "start_time": "2024-08-25T18:30:36.465992Z"
    }
   },
   "outputs": [
    {
     "data": {
      "text/plain": [
       "<Axes: xlabel='response', ylabel='annual_premium'>"
      ]
     },
     "execution_count": 50,
     "metadata": {},
     "output_type": "execute_result"
    },
    {
     "data": {
      "image/png": "[encoded data removed]",
      "text/plain": [
       "<Figure size 640x480 with 1 Axes>"
      ]
     },
     "metadata": {},
     "output_type": "display_data"
    }
   ],
   "source": [
    "sns.boxplot(x='response', y ='annual_premium', data=df4)"
   ]
  },
  {
   "cell_type": "code",
   "execution_count": 51,
   "id": "e923400f",
   "metadata": {
    "ExecuteTime": {
     "end_time": "2024-08-25T18:30:37.689641Z",
     "start_time": "2024-08-25T18:30:37.169816Z"
    }
   },
   "outputs": [
    {
     "data": {
      "text/plain": [
       "<Axes: xlabel='response', ylabel='annual_premium'>"
      ]
     },
     "execution_count": 51,
     "metadata": {},
     "output_type": "execute_result"
    },
    {
     "data": {
      "image/png": "[encoded data removed]",
      "text/plain": [
       "<Figure size 640x480 with 1 Axes>"
      ]
     },
     "metadata": {},
     "output_type": "display_data"
    }
   ],
   "source": [
    "# como os dados acima estao muito desproporcionais (muito outlier), vou excluir valores acima de 80000\n",
    "aux=df4[df4['annual_premium'] < 80000]\n",
    "sns.boxplot(x='response', y ='annual_premium', data=aux)"
   ]
  },
  {
   "cell_type": "code",
   "execution_count": 52,
   "id": "6bb1a37f",
   "metadata": {
    "ExecuteTime": {
     "end_time": "2024-08-25T18:30:37.692528Z",
     "start_time": "2024-08-25T18:30:37.690822Z"
    }
   },
   "outputs": [],
   "source": [
    "#medianas proximas para valores 1 e 0. SOzinha nao tem muito informacao, \n",
    "#tlvz se combinada com outras variaveis pode ser util"
   ]
  },
  {
   "cell_type": "code",
   "execution_count": 53,
   "id": "dc784e0b",
   "metadata": {
    "ExecuteTime": {
     "end_time": "2024-08-25T18:30:37.991893Z",
     "start_time": "2024-08-25T18:30:37.693489Z"
    }
   },
   "outputs": [
    {
     "data": {
      "text/plain": [
       "<Axes: >"
      ]
     },
     "execution_count": 53,
     "metadata": {},
     "output_type": "execute_result"
    },
    {
     "data": {
      "image/png": "[encoded data removed]",
      "text/plain": [
       "<Figure size 640x480 with 1 Axes>"
      ]
     },
     "metadata": {},
     "output_type": "display_data"
    }
   ],
   "source": [
    "aux00 = aux.loc[df4['response'] == '0', 'annual_premium']\n",
    "sns.histplot(data = aux00)"
   ]
  },
  {
   "cell_type": "code",
   "execution_count": 54,
   "id": "1c0a5b10",
   "metadata": {
    "ExecuteTime": {
     "end_time": "2024-08-25T18:30:38.231819Z",
     "start_time": "2024-08-25T18:30:37.992820Z"
    }
   },
   "outputs": [
    {
     "data": {
      "text/plain": [
       "<Axes: >"
      ]
     },
     "execution_count": 54,
     "metadata": {},
     "output_type": "execute_result"
    },
    {
     "data": {
      "image/png": "[encoded data removed]",
      "text/plain": [
       "<Figure size 640x480 with 1 Axes>"
      ]
     },
     "metadata": {},
     "output_type": "display_data"
    }
   ],
   "source": [
    "aux00 = aux.loc[df4['response'] == '1', 'annual_premium']\n",
    "sns.histplot(data = aux00)"
   ]
  },
  {
   "cell_type": "code",
   "execution_count": 55,
   "id": "d5bb5d86",
   "metadata": {
    "ExecuteTime": {
     "end_time": "2024-08-25T18:30:38.314520Z",
     "start_time": "2024-08-25T18:30:38.232803Z"
    }
   },
   "outputs": [],
   "source": [
    "#muitas pessoas pagam pouco, tem uma concentracao enorme  de pessoas que pagam menos que 10.000 vou criar um filtro secundario"
   ]
  },
  {
   "cell_type": "code",
   "execution_count": 56,
   "id": "8677df2d",
   "metadata": {
    "ExecuteTime": {
     "end_time": "2024-08-25T18:30:38.637303Z",
     "start_time": "2024-08-25T18:30:38.315527Z"
    }
   },
   "outputs": [
    {
     "data": {
      "text/plain": [
       "<Axes: >"
      ]
     },
     "execution_count": 56,
     "metadata": {},
     "output_type": "execute_result"
    },
    {
     "data": {
      "image/png": "[encoded data removed]",
      "text/plain": [
       "<Figure size 640x480 with 1 Axes>"
      ]
     },
     "metadata": {},
     "output_type": "display_data"
    }
   ],
   "source": [
    "aux =df4[(df4['annual_premium'] > 10000) & (df4['annual_premium'] < 80000)]\n",
    "aux00 = aux.loc[df4['response'] == '0', 'annual_premium']\n",
    "sns.histplot(data = aux00)"
   ]
  },
  {
   "cell_type": "code",
   "execution_count": 57,
   "id": "1c6bf344",
   "metadata": {
    "ExecuteTime": {
     "end_time": "2024-08-25T18:30:38.782188Z",
     "start_time": "2024-08-25T18:30:38.638298Z"
    }
   },
   "outputs": [
    {
     "data": {
      "text/plain": [
       "<Axes: >"
      ]
     },
     "execution_count": 57,
     "metadata": {},
     "output_type": "execute_result"
    },
    {
     "data": {
      "image/png": "[encoded data removed]",
      "text/plain": [
       "<Figure size 640x480 with 1 Axes>"
      ]
     },
     "metadata": {},
     "output_type": "display_data"
    }
   ],
   "source": [
    "aux =df4[(df4['annual_premium'] > 10000) & (df4['annual_premium'] < 80000)]\n",
    "aux00 = aux.loc[df4['response'] == '1', 'annual_premium']\n",
    "sns.histplot(data = aux00)"
   ]
  },
  {
   "cell_type": "code",
   "execution_count": 58,
   "id": "83c06571",
   "metadata": {
    "ExecuteTime": {
     "end_time": "2024-08-25T18:30:38.885853Z",
     "start_time": "2024-08-25T18:30:38.783247Z"
    }
   },
   "outputs": [],
   "source": [
    "#Tanto os grupos 0 e 1 tem o boxplot ou histplot muito parecido, nao tem uma discriminacao, entao sozinha  a variavel nao ajuda."
   ]
  },
  {
   "cell_type": "markdown",
   "id": "1ccdd787",
   "metadata": {},
   "source": [
    "### policy_sales_channel"
   ]
  },
  {
   "cell_type": "code",
   "execution_count": 59,
   "id": "e0eaf8f9",
   "metadata": {
    "ExecuteTime": {
     "end_time": "2024-08-25T18:30:39.699692Z",
     "start_time": "2024-08-25T18:30:38.888260Z"
    }
   },
   "outputs": [
    {
     "data": {
      "text/plain": [
       "<Axes: xlabel='response', ylabel='policy_sales_channel'>"
      ]
     },
     "execution_count": 59,
     "metadata": {},
     "output_type": "execute_result"
    },
    {
     "data": {
      "image/png": "[encoded data removed]",
      "text/plain": [
       "<Figure size 2400x1200 with 1 Axes>"
      ]
     },
     "metadata": {},
     "output_type": "display_data"
    }
   ],
   "source": [
    "plt.figure(figsize=(24,12))\n",
    "aux=df4[['policy_sales_channel','response']].groupby('policy_sales_channel').sum().reset_index()\n",
    "sns.barplot(x='response', y='policy_sales_channel', data=aux)"
   ]
  },
  {
   "cell_type": "code",
   "execution_count": 60,
   "id": "a7466877",
   "metadata": {
    "ExecuteTime": {
     "end_time": "2024-08-25T18:30:39.774159Z",
     "start_time": "2024-08-25T18:30:39.700685Z"
    }
   },
   "outputs": [
    {
     "name": "stderr",
     "output_type": "stream",
     "text": [
      "/tmp/ipykernel_74973/1274072686.py:2: SettingWithCopyWarning: \n",
      "A value is trying to be set on a copy of a slice from a DataFrame.\n",
      "Try using .loc[row_indexer,col_indexer] = value instead\n",
      "\n",
      "See the caveats in the documentation: https://pandas.pydata.org/pandas-docs/stable/user_guide/indexing.html#returning-a-view-versus-a-copy\n",
      "  df_aux['response'] = df_aux['response'].astype('string')\n"
     ]
    },
    {
     "data": {
      "text/html": [
       "<div>\n",
       "<style scoped>\n",
       "    .dataframe tbody tr th:only-of-type {\n",
       "        vertical-align: middle;\n",
       "    }\n",
       "\n",
       "    .dataframe tbody tr th {\n",
       "        vertical-align: top;\n",
       "    }\n",
       "\n",
       "    .dataframe thead th {\n",
       "        text-align: right;\n",
       "    }\n",
       "</style>\n",
       "<table border=\"1\" class=\"dataframe\">\n",
       "  <thead>\n",
       "    <tr style=\"text-align: right;\">\n",
       "      <th></th>\n",
       "      <th>policy_sales_channel</th>\n",
       "      <th>response</th>\n",
       "    </tr>\n",
       "  </thead>\n",
       "  <tbody>\n",
       "    <tr>\n",
       "      <th>0</th>\n",
       "      <td>26.0</td>\n",
       "      <td>1</td>\n",
       "    </tr>\n",
       "    <tr>\n",
       "      <th>1</th>\n",
       "      <td>26.0</td>\n",
       "      <td>0</td>\n",
       "    </tr>\n",
       "    <tr>\n",
       "      <th>2</th>\n",
       "      <td>26.0</td>\n",
       "      <td>1</td>\n",
       "    </tr>\n",
       "    <tr>\n",
       "      <th>3</th>\n",
       "      <td>152.0</td>\n",
       "      <td>0</td>\n",
       "    </tr>\n",
       "    <tr>\n",
       "      <th>4</th>\n",
       "      <td>152.0</td>\n",
       "      <td>0</td>\n",
       "    </tr>\n",
       "  </tbody>\n",
       "</table>\n",
       "</div>"
      ],
      "text/plain": [
       "   policy_sales_channel response\n",
       "0                  26.0        1\n",
       "1                  26.0        0\n",
       "2                  26.0        1\n",
       "3                 152.0        0\n",
       "4                 152.0        0"
      ]
     },
     "execution_count": 60,
     "metadata": {},
     "output_type": "execute_result"
    }
   ],
   "source": [
    "df_aux= df4[['policy_sales_channel','response']]\n",
    "df_aux['response'] = df_aux['response'].astype('string')\n",
    "\n",
    "df_aux.dtypes\n",
    "df_aux.head()"
   ]
  },
  {
   "cell_type": "code",
   "execution_count": 61,
   "id": "b670d632",
   "metadata": {
    "ExecuteTime": {
     "end_time": "2024-08-25T18:30:39.893798Z",
     "start_time": "2024-08-25T18:30:39.775178Z"
    }
   },
   "outputs": [
    {
     "name": "stderr",
     "output_type": "stream",
     "text": [
      "/tmp/ipykernel_74973/3921507790.py:1: SettingWithCopyWarning: \n",
      "A value is trying to be set on a copy of a slice from a DataFrame.\n",
      "Try using .loc[row_indexer,col_indexer] = value instead\n",
      "\n",
      "See the caveats in the documentation: https://pandas.pydata.org/pandas-docs/stable/user_guide/indexing.html#returning-a-view-versus-a-copy\n",
      "  df_aux['response']  = df_aux['response'].map({'1': 'Yes', '0': 'No'})\n"
     ]
    },
    {
     "data": {
      "text/html": [
       "<div>\n",
       "<style scoped>\n",
       "    .dataframe tbody tr th:only-of-type {\n",
       "        vertical-align: middle;\n",
       "    }\n",
       "\n",
       "    .dataframe tbody tr th {\n",
       "        vertical-align: top;\n",
       "    }\n",
       "\n",
       "    .dataframe thead th {\n",
       "        text-align: right;\n",
       "    }\n",
       "</style>\n",
       "<table border=\"1\" class=\"dataframe\">\n",
       "  <thead>\n",
       "    <tr style=\"text-align: right;\">\n",
       "      <th></th>\n",
       "      <th>policy_sales_channel</th>\n",
       "      <th>response</th>\n",
       "    </tr>\n",
       "  </thead>\n",
       "  <tbody>\n",
       "    <tr>\n",
       "      <th>0</th>\n",
       "      <td>26.0</td>\n",
       "      <td>Yes</td>\n",
       "    </tr>\n",
       "    <tr>\n",
       "      <th>1</th>\n",
       "      <td>26.0</td>\n",
       "      <td>No</td>\n",
       "    </tr>\n",
       "    <tr>\n",
       "      <th>2</th>\n",
       "      <td>26.0</td>\n",
       "      <td>Yes</td>\n",
       "    </tr>\n",
       "    <tr>\n",
       "      <th>3</th>\n",
       "      <td>152.0</td>\n",
       "      <td>No</td>\n",
       "    </tr>\n",
       "    <tr>\n",
       "      <th>4</th>\n",
       "      <td>152.0</td>\n",
       "      <td>No</td>\n",
       "    </tr>\n",
       "  </tbody>\n",
       "</table>\n",
       "</div>"
      ],
      "text/plain": [
       "   policy_sales_channel response\n",
       "0                  26.0      Yes\n",
       "1                  26.0       No\n",
       "2                  26.0      Yes\n",
       "3                 152.0       No\n",
       "4                 152.0       No"
      ]
     },
     "execution_count": 61,
     "metadata": {},
     "output_type": "execute_result"
    }
   ],
   "source": [
    "df_aux['response']  = df_aux['response'].map({'1': 'Yes', '0': 'No'})\n",
    "df_aux.head()"
   ]
  },
  {
   "cell_type": "code",
   "execution_count": 62,
   "id": "650d7e96",
   "metadata": {
    "ExecuteTime": {
     "end_time": "2024-08-25T18:30:40.092166Z",
     "start_time": "2024-08-25T18:30:39.894802Z"
    }
   },
   "outputs": [
    {
     "data": {
      "text/html": [
       "<div>\n",
       "<style scoped>\n",
       "    .dataframe tbody tr th:only-of-type {\n",
       "        vertical-align: middle;\n",
       "    }\n",
       "\n",
       "    .dataframe tbody tr th {\n",
       "        vertical-align: top;\n",
       "    }\n",
       "\n",
       "    .dataframe thead th {\n",
       "        text-align: right;\n",
       "    }\n",
       "</style>\n",
       "<table border=\"1\" class=\"dataframe\">\n",
       "  <thead>\n",
       "    <tr style=\"text-align: right;\">\n",
       "      <th>response</th>\n",
       "      <th>policy_sales_channel</th>\n",
       "      <th>No</th>\n",
       "      <th>Yes</th>\n",
       "    </tr>\n",
       "  </thead>\n",
       "  <tbody>\n",
       "    <tr>\n",
       "      <th>0</th>\n",
       "      <td>1.0</td>\n",
       "      <td>96.74</td>\n",
       "      <td>3.26</td>\n",
       "    </tr>\n",
       "    <tr>\n",
       "      <th>1</th>\n",
       "      <td>2.0</td>\n",
       "      <td>75.00</td>\n",
       "      <td>25.00</td>\n",
       "    </tr>\n",
       "    <tr>\n",
       "      <th>2</th>\n",
       "      <td>3.0</td>\n",
       "      <td>69.60</td>\n",
       "      <td>30.40</td>\n",
       "    </tr>\n",
       "    <tr>\n",
       "      <th>3</th>\n",
       "      <td>4.0</td>\n",
       "      <td>79.96</td>\n",
       "      <td>20.04</td>\n",
       "    </tr>\n",
       "    <tr>\n",
       "      <th>4</th>\n",
       "      <td>6.0</td>\n",
       "      <td>100.00</td>\n",
       "      <td>NaN</td>\n",
       "    </tr>\n",
       "    <tr>\n",
       "      <th>...</th>\n",
       "      <td>...</td>\n",
       "      <td>...</td>\n",
       "      <td>...</td>\n",
       "    </tr>\n",
       "    <tr>\n",
       "      <th>150</th>\n",
       "      <td>157.0</td>\n",
       "      <td>73.16</td>\n",
       "      <td>26.84</td>\n",
       "    </tr>\n",
       "    <tr>\n",
       "      <th>151</th>\n",
       "      <td>158.0</td>\n",
       "      <td>72.56</td>\n",
       "      <td>27.44</td>\n",
       "    </tr>\n",
       "    <tr>\n",
       "      <th>152</th>\n",
       "      <td>159.0</td>\n",
       "      <td>98.04</td>\n",
       "      <td>1.96</td>\n",
       "    </tr>\n",
       "    <tr>\n",
       "      <th>153</th>\n",
       "      <td>160.0</td>\n",
       "      <td>97.82</td>\n",
       "      <td>2.18</td>\n",
       "    </tr>\n",
       "    <tr>\n",
       "      <th>154</th>\n",
       "      <td>163.0</td>\n",
       "      <td>69.58</td>\n",
       "      <td>30.42</td>\n",
       "    </tr>\n",
       "  </tbody>\n",
       "</table>\n",
       "<p>155 rows × 3 columns</p>\n",
       "</div>"
      ],
      "text/plain": [
       "response  policy_sales_channel      No    Yes\n",
       "0                          1.0   96.74   3.26\n",
       "1                          2.0   75.00  25.00\n",
       "2                          3.0   69.60  30.40\n",
       "3                          4.0   79.96  20.04\n",
       "4                          6.0  100.00    NaN\n",
       "..                         ...     ...    ...\n",
       "150                      157.0   73.16  26.84\n",
       "151                      158.0   72.56  27.44\n",
       "152                      159.0   98.04   1.96\n",
       "153                      160.0   97.82   2.18\n",
       "154                      163.0   69.58  30.42\n",
       "\n",
       "[155 rows x 3 columns]"
      ]
     },
     "execution_count": 62,
     "metadata": {},
     "output_type": "execute_result"
    }
   ],
   "source": [
    "\n",
    "df1_ax = (df_aux\n",
    "      .groupby(\"policy_sales_channel\")[\"response\"]\n",
    "      .value_counts(normalize=True)\n",
    "      .mul(100)\n",
    "      .round(2)\n",
    "      .unstack())\n",
    "df1_ax.reset_index()"
   ]
  },
  {
   "cell_type": "markdown",
   "id": "9a027165",
   "metadata": {},
   "source": [
    "### vintage"
   ]
  },
  {
   "cell_type": "code",
   "execution_count": 63,
   "id": "2c448fd9",
   "metadata": {
    "ExecuteTime": {
     "end_time": "2024-08-25T18:30:40.832554Z",
     "start_time": "2024-08-25T18:30:40.094289Z"
    }
   },
   "outputs": [
    {
     "data": {
      "text/plain": [
       "<Axes: xlabel='response', ylabel='vintage'>"
      ]
     },
     "execution_count": 63,
     "metadata": {},
     "output_type": "execute_result"
    },
    {
     "data": {
      "image/png": "[encoded data removed]",
      "text/plain": [
       "<Figure size 640x480 with 1 Axes>"
      ]
     },
     "metadata": {},
     "output_type": "display_data"
    }
   ],
   "source": [
    "sns.boxplot(x='response', y='vintage',data=df4)"
   ]
  },
  {
   "cell_type": "code",
   "execution_count": 64,
   "id": "ce7aab85",
   "metadata": {
    "ExecuteTime": {
     "end_time": "2024-08-25T18:30:41.088386Z",
     "start_time": "2024-08-25T18:30:40.833594Z"
    }
   },
   "outputs": [
    {
     "data": {
      "text/plain": [
       "<Axes: xlabel='vintage', ylabel='Count'>"
      ]
     },
     "execution_count": 64,
     "metadata": {},
     "output_type": "execute_result"
    },
    {
     "data": {
      "image/png": "[encoded data removed]",
      "text/plain": [
       "<Figure size 640x480 with 1 Axes>"
      ]
     },
     "metadata": {},
     "output_type": "display_data"
    }
   ],
   "source": [
    "aux00= df4.loc[df4['response']==0,'vintage']\n",
    "sns.histplot(aux00)"
   ]
  },
  {
   "cell_type": "code",
   "execution_count": 65,
   "id": "0ce52432",
   "metadata": {
    "ExecuteTime": {
     "end_time": "2024-08-25T18:30:41.262027Z",
     "start_time": "2024-08-25T18:30:41.089367Z"
    }
   },
   "outputs": [
    {
     "data": {
      "text/plain": [
       "<Axes: xlabel='vintage', ylabel='Count'>"
      ]
     },
     "execution_count": 65,
     "metadata": {},
     "output_type": "execute_result"
    },
    {
     "data": {
      "image/png": "[encoded data removed]",
      "text/plain": [
       "<Figure size 640x480 with 1 Axes>"
      ]
     },
     "metadata": {},
     "output_type": "display_data"
    }
   ],
   "source": [
    "aux00= df4.loc[df4['response']==1,'vintage']\n",
    "sns.histplot(aux00)"
   ]
  },
  {
   "cell_type": "markdown",
   "id": "d0dea1de",
   "metadata": {},
   "source": [
    "## 4.2. Bivariate Analysis"
   ]
  },
  {
   "cell_type": "markdown",
   "id": "81d5eb29",
   "metadata": {},
   "source": [
    "1. Customers aged >=40 years are more willing to have car insurance.\n",
    "2. Customers who already have vehicle insurance are not interested in new vehicle insurance.\n",
    "3. Customers who have had a vehicle for less than 1 year should want vehicle insurance more than customers who have owned a vehicle for longer.\n",
    "4. Customers who have been associated with the company for a long time may want car insurance.\n",
    "5. Clients who damaged their cars are more likely to want the insurance.\n",
    "6. Woman are most likely to want a vehicle insurance.\n",
    "7. Customers who have region code 28 may want car insurance more than other regions.\n",
    "8. Customers who have policy_sales_channel = 152 may want car insurance more than other policy_sales_channel\n",
    "9. People with +40k annual premium should want the insurance"
   ]
  },
  {
   "cell_type": "markdown",
   "id": "edfcd634",
   "metadata": {},
   "source": [
    "### H1 - Customers aged >=40 years are more willing to have car insurance.\n",
    "#### False"
   ]
  },
  {
   "cell_type": "code",
   "execution_count": 66,
   "id": "65ada30e",
   "metadata": {
    "ExecuteTime": {
     "end_time": "2024-08-25T18:30:41.316349Z",
     "start_time": "2024-08-25T18:30:41.263034Z"
    }
   },
   "outputs": [
    {
     "data": {
      "text/html": [
       "<div>\n",
       "<style scoped>\n",
       "    .dataframe tbody tr th:only-of-type {\n",
       "        vertical-align: middle;\n",
       "    }\n",
       "\n",
       "    .dataframe tbody tr th {\n",
       "        vertical-align: top;\n",
       "    }\n",
       "\n",
       "    .dataframe thead th {\n",
       "        text-align: right;\n",
       "    }\n",
       "</style>\n",
       "<table border=\"1\" class=\"dataframe\">\n",
       "  <thead>\n",
       "    <tr style=\"text-align: right;\">\n",
       "      <th></th>\n",
       "      <th>id</th>\n",
       "      <th>gender</th>\n",
       "      <th>age</th>\n",
       "      <th>driving_license</th>\n",
       "      <th>region_code</th>\n",
       "      <th>previously_insured</th>\n",
       "      <th>vehicle_age</th>\n",
       "      <th>vehicle_damage</th>\n",
       "      <th>annual_premium</th>\n",
       "      <th>policy_sales_channel</th>\n",
       "      <th>vintage</th>\n",
       "      <th>response</th>\n",
       "    </tr>\n",
       "  </thead>\n",
       "  <tbody>\n",
       "    <tr>\n",
       "      <th>0</th>\n",
       "      <td>1</td>\n",
       "      <td>Male</td>\n",
       "      <td>44</td>\n",
       "      <td>1</td>\n",
       "      <td>28.0</td>\n",
       "      <td>0</td>\n",
       "      <td>over_2_years</td>\n",
       "      <td>1</td>\n",
       "      <td>40454.0</td>\n",
       "      <td>26.0</td>\n",
       "      <td>217</td>\n",
       "      <td>1</td>\n",
       "    </tr>\n",
       "    <tr>\n",
       "      <th>1</th>\n",
       "      <td>2</td>\n",
       "      <td>Male</td>\n",
       "      <td>76</td>\n",
       "      <td>1</td>\n",
       "      <td>3.0</td>\n",
       "      <td>0</td>\n",
       "      <td>between_1_2_years</td>\n",
       "      <td>0</td>\n",
       "      <td>33536.0</td>\n",
       "      <td>26.0</td>\n",
       "      <td>183</td>\n",
       "      <td>0</td>\n",
       "    </tr>\n",
       "    <tr>\n",
       "      <th>2</th>\n",
       "      <td>3</td>\n",
       "      <td>Male</td>\n",
       "      <td>47</td>\n",
       "      <td>1</td>\n",
       "      <td>28.0</td>\n",
       "      <td>0</td>\n",
       "      <td>over_2_years</td>\n",
       "      <td>1</td>\n",
       "      <td>38294.0</td>\n",
       "      <td>26.0</td>\n",
       "      <td>27</td>\n",
       "      <td>1</td>\n",
       "    </tr>\n",
       "    <tr>\n",
       "      <th>3</th>\n",
       "      <td>4</td>\n",
       "      <td>Male</td>\n",
       "      <td>21</td>\n",
       "      <td>1</td>\n",
       "      <td>11.0</td>\n",
       "      <td>1</td>\n",
       "      <td>below_1_year</td>\n",
       "      <td>0</td>\n",
       "      <td>28619.0</td>\n",
       "      <td>152.0</td>\n",
       "      <td>203</td>\n",
       "      <td>0</td>\n",
       "    </tr>\n",
       "    <tr>\n",
       "      <th>4</th>\n",
       "      <td>5</td>\n",
       "      <td>Female</td>\n",
       "      <td>29</td>\n",
       "      <td>1</td>\n",
       "      <td>41.0</td>\n",
       "      <td>1</td>\n",
       "      <td>below_1_year</td>\n",
       "      <td>0</td>\n",
       "      <td>27496.0</td>\n",
       "      <td>152.0</td>\n",
       "      <td>39</td>\n",
       "      <td>0</td>\n",
       "    </tr>\n",
       "  </tbody>\n",
       "</table>\n",
       "</div>"
      ],
      "text/plain": [
       "   id  gender  age  driving_license  region_code  previously_insured  \\\n",
       "0   1    Male   44                1         28.0                   0   \n",
       "1   2    Male   76                1          3.0                   0   \n",
       "2   3    Male   47                1         28.0                   0   \n",
       "3   4    Male   21                1         11.0                   1   \n",
       "4   5  Female   29                1         41.0                   1   \n",
       "\n",
       "         vehicle_age  vehicle_damage  annual_premium  policy_sales_channel  \\\n",
       "0       over_2_years               1         40454.0                  26.0   \n",
       "1  between_1_2_years               0         33536.0                  26.0   \n",
       "2       over_2_years               1         38294.0                  26.0   \n",
       "3       below_1_year               0         28619.0                 152.0   \n",
       "4       below_1_year               0         27496.0                 152.0   \n",
       "\n",
       "   vintage  response  \n",
       "0      217         1  \n",
       "1      183         0  \n",
       "2       27         1  \n",
       "3      203         0  \n",
       "4       39         0  "
      ]
     },
     "execution_count": 66,
     "metadata": {},
     "output_type": "execute_result"
    }
   ],
   "source": [
    "df4.head()"
   ]
  },
  {
   "cell_type": "code",
   "execution_count": 67,
   "id": "5599069a",
   "metadata": {
    "ExecuteTime": {
     "end_time": "2024-08-25T18:30:41.728054Z",
     "start_time": "2024-08-25T18:30:41.317343Z"
    }
   },
   "outputs": [
    {
     "name": "stderr",
     "output_type": "stream",
     "text": [
      "/tmp/ipykernel_74973/1792134824.py:3: SettingWithCopyWarning: \n",
      "A value is trying to be set on a copy of a slice from a DataFrame.\n",
      "Try using .loc[row_indexer,col_indexer] = value instead\n",
      "\n",
      "See the caveats in the documentation: https://pandas.pydata.org/pandas-docs/stable/user_guide/indexing.html#returning-a-view-versus-a-copy\n",
      "  aux1['response']  = aux1['response'].map({1: 'Yes', 0: 'No'})\n",
      "/tmp/ipykernel_74973/1792134824.py:4: SettingWithCopyWarning: \n",
      "A value is trying to be set on a copy of a slice from a DataFrame.\n",
      "Try using .loc[row_indexer,col_indexer] = value instead\n",
      "\n",
      "See the caveats in the documentation: https://pandas.pydata.org/pandas-docs/stable/user_guide/indexing.html#returning-a-view-versus-a-copy\n",
      "  aux2['response']  = aux2['response'].map({1: 'Yes', 0: 'No'})\n"
     ]
    },
    {
     "data": {
      "image/png": "[encoded data removed]",
      "text/plain": [
       "<Figure size 640x480 with 1 Axes>"
      ]
     },
     "metadata": {},
     "output_type": "display_data"
    }
   ],
   "source": [
    "aux1 = df4[df4['age'] >= 40]\n",
    "aux2 = df4[df4['age'] < 40]\n",
    "aux1['response']  = aux1['response'].map({1: 'Yes', 0: 'No'})\n",
    "aux2['response']  = aux2['response'].map({1: 'Yes', 0: 'No'})\n",
    "aux1.head()\n",
    "sns.countplot(x ='response', data = aux1)\n",
    "plt.show()\n"
   ]
  },
  {
   "cell_type": "code",
   "execution_count": 68,
   "id": "07ecbb17",
   "metadata": {
    "ExecuteTime": {
     "end_time": "2024-08-25T18:30:41.975052Z",
     "start_time": "2024-08-25T18:30:41.729269Z"
    }
   },
   "outputs": [
    {
     "data": {
      "image/png": "[encoded data removed]",
      "text/plain": [
       "<Figure size 640x480 with 1 Axes>"
      ]
     },
     "metadata": {},
     "output_type": "display_data"
    }
   ],
   "source": [
    "sns.countplot(x ='response', data = aux2)\n",
    "plt.show()"
   ]
  },
  {
   "cell_type": "markdown",
   "id": "8e67bdf2",
   "metadata": {},
   "source": [
    "### H2 - Customers who already have vehicle insurance are not interested in new vehicle insurance.\n",
    "#### True"
   ]
  },
  {
   "cell_type": "code",
   "execution_count": 69,
   "id": "532d9c8e",
   "metadata": {
    "ExecuteTime": {
     "end_time": "2024-08-25T18:30:42.265390Z",
     "start_time": "2024-08-25T18:30:41.976038Z"
    }
   },
   "outputs": [
    {
     "name": "stderr",
     "output_type": "stream",
     "text": [
      "/tmp/ipykernel_74973/3496813032.py:2: SettingWithCopyWarning: \n",
      "A value is trying to be set on a copy of a slice from a DataFrame.\n",
      "Try using .loc[row_indexer,col_indexer] = value instead\n",
      "\n",
      "See the caveats in the documentation: https://pandas.pydata.org/pandas-docs/stable/user_guide/indexing.html#returning-a-view-versus-a-copy\n",
      "  aux1['response']  = aux1['response'].map({1: 'Yes', 0: 'No'})\n"
     ]
    },
    {
     "data": {
      "image/png": "[encoded data removed]",
      "text/plain": [
       "<Figure size 640x480 with 1 Axes>"
      ]
     },
     "metadata": {},
     "output_type": "display_data"
    }
   ],
   "source": [
    "aux1 = df4[df4['previously_insured'] == 1]\n",
    "aux1['response']  = aux1['response'].map({1: 'Yes', 0: 'No'})\n",
    "aux1.head()\n",
    "sns.countplot(x ='response', data = aux1)\n",
    "plt.show()"
   ]
  },
  {
   "cell_type": "markdown",
   "id": "647ba343",
   "metadata": {},
   "source": [
    "### H3 - Customers who have had a vehicle for less than 1 year should want vehicle insurance more than customers who have owned a vehicle for longer.\n",
    "#### False"
   ]
  },
  {
   "cell_type": "code",
   "execution_count": 70,
   "id": "9eb144ca",
   "metadata": {
    "ExecuteTime": {
     "end_time": "2024-08-25T18:30:42.785305Z",
     "start_time": "2024-08-25T18:30:42.266413Z"
    }
   },
   "outputs": [
    {
     "name": "stderr",
     "output_type": "stream",
     "text": [
      "/tmp/ipykernel_74973/377384990.py:1: FutureWarning: \n",
      "\n",
      "Passing `palette` without assigning `hue` is deprecated and will be removed in v0.14.0. Assign the `y` variable to `hue` and set `legend=False` for the same effect.\n",
      "\n",
      "  ax = sns.countplot(data = df1, y = 'vehicle_age', palette='colorblind',orient='y');\n"
     ]
    },
    {
     "data": {
      "text/plain": [
       "[Text(0, 0, '43.2%')]"
      ]
     },
     "execution_count": 70,
     "metadata": {},
     "output_type": "execute_result"
    },
    {
     "data": {
      "image/png": "[encoded data removed]",
      "text/plain": [
       "<Figure size 640x480 with 1 Axes>"
      ]
     },
     "metadata": {},
     "output_type": "display_data"
    }
   ],
   "source": [
    "ax = sns.countplot(data = df1, y = 'vehicle_age', palette='colorblind',orient='y');\n",
    "total = df1['response'].count()\n",
    "ax.bar_label(ax.containers[0], fmt=lambda x: f'{(x/total)*100:0.1f}%')\n",
    "ax.bar_label(ax.containers[1], fmt=lambda x: f'{(x/total)*100:0.1f}%')\n",
    "ax.bar_label(ax.containers[2], fmt=lambda x: f'{(x/total)*100:0.1f}%')"
   ]
  },
  {
   "cell_type": "markdown",
   "id": "bc6aea6a",
   "metadata": {},
   "source": [
    "### H4 - Customers who have been associated with the company for a long time may want car insurance.\n",
    "#### False"
   ]
  },
  {
   "cell_type": "code",
   "execution_count": 71,
   "id": "a27efc6e",
   "metadata": {
    "ExecuteTime": {
     "end_time": "2024-08-25T18:30:43.044481Z",
     "start_time": "2024-08-25T18:30:42.786337Z"
    }
   },
   "outputs": [
    {
     "data": {
      "text/plain": [
       "<Axes: xlabel='vintage', ylabel='Count'>"
      ]
     },
     "execution_count": 71,
     "metadata": {},
     "output_type": "execute_result"
    },
    {
     "data": {
      "image/png": "[encoded data removed]",
      "text/plain": [
       "<Figure size 640x480 with 1 Axes>"
      ]
     },
     "metadata": {},
     "output_type": "display_data"
    }
   ],
   "source": [
    "aux00= df4.loc[df4['response']==0,'vintage']\n",
    "sns.histplot(aux00)"
   ]
  },
  {
   "cell_type": "code",
   "execution_count": 72,
   "id": "0a014dcd",
   "metadata": {
    "ExecuteTime": {
     "end_time": "2024-08-25T18:30:43.182467Z",
     "start_time": "2024-08-25T18:30:43.045900Z"
    }
   },
   "outputs": [
    {
     "data": {
      "text/plain": [
       "<Axes: xlabel='vintage', ylabel='Count'>"
      ]
     },
     "execution_count": 72,
     "metadata": {},
     "output_type": "execute_result"
    },
    {
     "data": {
      "image/png": "[encoded data removed]",
      "text/plain": [
       "<Figure size 640x480 with 1 Axes>"
      ]
     },
     "metadata": {},
     "output_type": "display_data"
    }
   ],
   "source": [
    "aux00= df4.loc[df4['response']==1,'vintage']\n",
    "sns.histplot(aux00)"
   ]
  },
  {
   "cell_type": "markdown",
   "id": "865a9836",
   "metadata": {},
   "source": [
    "### H5 - Clients who damaged their cars are more likely to want the insurance.\n",
    "#### True"
   ]
  },
  {
   "cell_type": "code",
   "execution_count": 73,
   "id": "0efa68f3",
   "metadata": {
    "ExecuteTime": {
     "end_time": "2024-08-25T18:30:43.726910Z",
     "start_time": "2024-08-25T18:30:43.183595Z"
    }
   },
   "outputs": [
    {
     "name": "stderr",
     "output_type": "stream",
     "text": [
      "/tmp/ipykernel_74973/3163466708.py:1: FutureWarning: \n",
      "\n",
      "Passing `palette` without assigning `hue` is deprecated and will be removed in v0.14.0. Assign the `y` variable to `hue` and set `legend=False` for the same effect.\n",
      "\n",
      "  ax = sns.countplot(data = df1, y = 'vehicle_damage', palette='colorblind',orient='y',);\n"
     ]
    },
    {
     "data": {
      "text/plain": [
       "[Text(0, 0, '49.5%')]"
      ]
     },
     "execution_count": 73,
     "metadata": {},
     "output_type": "execute_result"
    },
    {
     "data": {
      "image/png": "[encoded data removed]",
      "text/plain": [
       "<Figure size 640x480 with 1 Axes>"
      ]
     },
     "metadata": {},
     "output_type": "display_data"
    }
   ],
   "source": [
    "ax = sns.countplot(data = df1, y = 'vehicle_damage', palette='colorblind',orient='y',);\n",
    "total = df1['response'].count()\n",
    "ax.bar_label(ax.containers[0], fmt=lambda x: f'{(x/total)*100:0.1f}%')\n",
    "ax.bar_label(ax.containers[1], fmt=lambda x: f'{(x/total)*100:0.1f}%')"
   ]
  },
  {
   "cell_type": "markdown",
   "id": "c014d876",
   "metadata": {},
   "source": [
    "### H6 - Woman are most likely to want a vehicle insurance.\n",
    "#### False"
   ]
  },
  {
   "cell_type": "code",
   "execution_count": 74,
   "id": "46b3301a",
   "metadata": {
    "ExecuteTime": {
     "end_time": "2024-08-25T18:30:44.005336Z",
     "start_time": "2024-08-25T18:30:43.727843Z"
    }
   },
   "outputs": [
    {
     "name": "stderr",
     "output_type": "stream",
     "text": [
      "/tmp/ipykernel_74973/5693904.py:3: SettingWithCopyWarning: \n",
      "A value is trying to be set on a copy of a slice from a DataFrame.\n",
      "Try using .loc[row_indexer,col_indexer] = value instead\n",
      "\n",
      "See the caveats in the documentation: https://pandas.pydata.org/pandas-docs/stable/user_guide/indexing.html#returning-a-view-versus-a-copy\n",
      "  aux1['response']  = aux1['response'].map({1: 'Yes', 0: 'No'})\n",
      "/tmp/ipykernel_74973/5693904.py:4: SettingWithCopyWarning: \n",
      "A value is trying to be set on a copy of a slice from a DataFrame.\n",
      "Try using .loc[row_indexer,col_indexer] = value instead\n",
      "\n",
      "See the caveats in the documentation: https://pandas.pydata.org/pandas-docs/stable/user_guide/indexing.html#returning-a-view-versus-a-copy\n",
      "  aux2['response']  = aux2['response'].map({1: 'Yes', 0: 'No'})\n"
     ]
    },
    {
     "data": {
      "image/png": "[encoded data removed]",
      "text/plain": [
       "<Figure size 640x480 with 1 Axes>"
      ]
     },
     "metadata": {},
     "output_type": "display_data"
    }
   ],
   "source": [
    "aux1 = df4[df4['gender'] == 'Female']\n",
    "aux2 = df4[df4['gender'] == 'Male']\n",
    "aux1['response']  = aux1['response'].map({1: 'Yes', 0: 'No'})\n",
    "aux2['response']  = aux2['response'].map({1: 'Yes', 0: 'No'})\n",
    "aux1.head()\n",
    "sns.countplot(x ='response', data = aux1)\n",
    "plt.show()\n"
   ]
  },
  {
   "cell_type": "code",
   "execution_count": 75,
   "id": "73a4c571",
   "metadata": {
    "ExecuteTime": {
     "end_time": "2024-08-25T18:30:44.249332Z",
     "start_time": "2024-08-25T18:30:44.006812Z"
    }
   },
   "outputs": [
    {
     "data": {
      "image/png": "[encoded data removed]",
      "text/plain": [
       "<Figure size 640x480 with 1 Axes>"
      ]
     },
     "metadata": {},
     "output_type": "display_data"
    }
   ],
   "source": [
    "sns.countplot(x ='response', data = aux2)\n",
    "plt.show()"
   ]
  },
  {
   "cell_type": "markdown",
   "id": "b1f36730",
   "metadata": {},
   "source": [
    "# 5.0. DATA PREPARATION"
   ]
  },
  {
   "cell_type": "code",
   "execution_count": 76,
   "id": "67c83451",
   "metadata": {
    "ExecuteTime": {
     "end_time": "2024-08-25T18:30:44.280334Z",
     "start_time": "2024-08-25T18:30:44.250536Z"
    }
   },
   "outputs": [],
   "source": [
    "df5 = df4.copy()"
   ]
  },
  {
   "cell_type": "code",
   "execution_count": 77,
   "id": "3cc9a92e",
   "metadata": {
    "ExecuteTime": {
     "end_time": "2024-08-25T18:30:44.533793Z",
     "start_time": "2024-08-25T18:30:44.281549Z"
    }
   },
   "outputs": [
    {
     "data": {
      "text/plain": [
       "Index(['id', 'gender', 'age', 'driving_license', 'region_code',\n",
       "       'previously_insured', 'vehicle_age', 'vehicle_damage', 'annual_premium',\n",
       "       'policy_sales_channel', 'vintage', 'response'],\n",
       "      dtype='object')"
      ]
     },
     "execution_count": 77,
     "metadata": {},
     "output_type": "execute_result"
    }
   ],
   "source": [
    "df5.columns"
   ]
  },
  {
   "cell_type": "code",
   "execution_count": 78,
   "id": "94ea7609",
   "metadata": {
    "ExecuteTime": {
     "end_time": "2024-08-25T18:30:45.056920Z",
     "start_time": "2024-08-25T18:30:44.536345Z"
    }
   },
   "outputs": [
    {
     "data": {
      "text/plain": [
       "<Axes: xlabel='age', ylabel='Count'>"
      ]
     },
     "execution_count": 78,
     "metadata": {},
     "output_type": "execute_result"
    },
    {
     "data": {
      "image/png": "[encoded data removed]",
      "text/plain": [
       "<Figure size 640x480 with 1 Axes>"
      ]
     },
     "metadata": {},
     "output_type": "display_data"
    }
   ],
   "source": [
    "sns.histplot(df5['age'])"
   ]
  },
  {
   "cell_type": "code",
   "execution_count": 79,
   "id": "fb8acb69",
   "metadata": {
    "ExecuteTime": {
     "end_time": "2024-08-25T18:30:45.473896Z",
     "start_time": "2024-08-25T18:30:45.057850Z"
    }
   },
   "outputs": [],
   "source": [
    "#Split of DF in train and test\n",
    "X = df4.drop('response', axis=1)\n",
    "y = df4['response'].copy()\n",
    "\n",
    "x_train, x_val, y_train, y_val = ms.train_test_split (X, y, test_size = 0.20)\n",
    "\n",
    "df5 = pd.concat ([x_train, y_train], axis=1)"
   ]
  },
  {
   "cell_type": "markdown",
   "id": "8bdf4e09",
   "metadata": {},
   "source": [
    "## Standartization"
   ]
  },
  {
   "cell_type": "code",
   "execution_count": 80,
   "id": "2b812a85",
   "metadata": {
    "ExecuteTime": {
     "end_time": "2024-08-25T18:30:45.481646Z",
     "start_time": "2024-08-25T18:30:45.475505Z"
    }
   },
   "outputs": [],
   "source": [
    "ss = pp.StandardScaler()\n",
    "\n",
    "# annual_premium\n",
    "#colchetes duplos e metodo values para pegar o valor em forma de um array dentro do fit transformer\n",
    "df5['annual_premium'] = ss.fit_transform (df5[['annual_premium']].values)"
   ]
  },
  {
   "cell_type": "markdown",
   "id": "5dba3d6b",
   "metadata": {},
   "source": [
    "## Rescaling"
   ]
  },
  {
   "cell_type": "code",
   "execution_count": 81,
   "id": "0d55cbff",
   "metadata": {
    "ExecuteTime": {
     "end_time": "2024-08-25T18:30:45.767794Z",
     "start_time": "2024-08-25T18:30:45.482918Z"
    }
   },
   "outputs": [],
   "source": [
    "mms_age = pp.MinMaxScaler()\n",
    "mms_vintage = pp.MinMaxScaler()\n",
    "# age\n",
    "df5['age'] = mms_age.fit_transform(df5[['age']].values) \n",
    "# vintage\n",
    "df5['vintage'] = mms_vintage.fit_transform(df5[['vintage']].values) "
   ]
  },
  {
   "cell_type": "markdown",
   "id": "12452831",
   "metadata": {},
   "source": [
    "## Enconder"
   ]
  },
  {
   "cell_type": "code",
   "execution_count": 82,
   "id": "33f9c435",
   "metadata": {
    "ExecuteTime": {
     "end_time": "2024-08-25T18:30:46.145346Z",
     "start_time": "2024-08-25T18:30:45.770510Z"
    }
   },
   "outputs": [],
   "source": [
    "# ----vars yes/no-------\n",
    "\n",
    "# driving_licence - (no need encode it is already in 0/1)\n",
    "\n",
    "#gender - One Hot Encoding / Target Encoding\n",
    "target_encode_gender = df5.groupby ('gender')['response'].mean()\n",
    "df5.loc[:,'gender'] = df5['gender'].map(target_encode_gender)\n",
    "df5.head()\n",
    "\n",
    "\n",
    "# region_code - Frequency encoding / Target encoding / Weighted Terget Enconding\n",
    "#Escolhido Target encoding\n",
    "target_encode_region_code = df5.groupby ('region_code')['response'].mean()\n",
    "#target_encode_region_code.head()\n",
    "df5.loc[:,'region_code'] = df5['region_code'].map(target_encode_region_code)\n",
    "df5.head()\n",
    "\n",
    "# previously_insured - no need encode it is already in 0/1)\n",
    "\n",
    "# vehicle_age - One Hot Enconding / Order Enconding  / Frequency encoding -\n",
    "#Escolhido One Hot Enconding\n",
    "#Get dummies passa a columna que quero e devolve o DF inteiro para sustentar o one hot encode\n",
    "df5 = pd.get_dummies(df5,prefix = 'vehicle_age', columns =['vehicle_age'])\n",
    "\n",
    "# vehicle_damage - no need encode it is already in 0/1)\n",
    "\n",
    "# policy_sales_channel - Frequency encoding / Target encoding \n",
    "#frequency encoding\n",
    "fe_policy_sales_channel = df5.groupby('policy_sales_channel').size() / len(df5)\n",
    "df5.loc[:,'policy_sales_channel'] = df5 ['policy_sales_channel'].map(fe_policy_sales_channel)\n",
    "\n",
    "#\n"
   ]
  },
  {
   "cell_type": "code",
   "execution_count": 83,
   "id": "015ed3d3",
   "metadata": {
    "ExecuteTime": {
     "end_time": "2024-08-25T18:30:46.220504Z",
     "start_time": "2024-08-25T18:30:46.146804Z"
    },
    "scrolled": true
   },
   "outputs": [
    {
     "data": {
      "text/html": [
       "<div>\n",
       "<style scoped>\n",
       "    .dataframe tbody tr th:only-of-type {\n",
       "        vertical-align: middle;\n",
       "    }\n",
       "\n",
       "    .dataframe tbody tr th {\n",
       "        vertical-align: top;\n",
       "    }\n",
       "\n",
       "    .dataframe thead th {\n",
       "        text-align: right;\n",
       "    }\n",
       "</style>\n",
       "<table border=\"1\" class=\"dataframe\">\n",
       "  <thead>\n",
       "    <tr style=\"text-align: right;\">\n",
       "      <th></th>\n",
       "      <th>id</th>\n",
       "      <th>gender</th>\n",
       "      <th>age</th>\n",
       "      <th>driving_license</th>\n",
       "      <th>region_code</th>\n",
       "      <th>previously_insured</th>\n",
       "      <th>vehicle_damage</th>\n",
       "      <th>annual_premium</th>\n",
       "      <th>policy_sales_channel</th>\n",
       "      <th>vintage</th>\n",
       "      <th>response</th>\n",
       "      <th>vehicle_age_below_1_year</th>\n",
       "      <th>vehicle_age_between_1_2_years</th>\n",
       "      <th>vehicle_age_over_2_years</th>\n",
       "    </tr>\n",
       "  </thead>\n",
       "  <tbody>\n",
       "    <tr>\n",
       "      <th>183267</th>\n",
       "      <td>183268</td>\n",
       "      <td>0.138906</td>\n",
       "      <td>0.584615</td>\n",
       "      <td>1</td>\n",
       "      <td>0.121342</td>\n",
       "      <td>0</td>\n",
       "      <td>1</td>\n",
       "      <td>0.650976</td>\n",
       "      <td>0.209150</td>\n",
       "      <td>0.622837</td>\n",
       "      <td>0</td>\n",
       "      <td>False</td>\n",
       "      <td>False</td>\n",
       "      <td>True</td>\n",
       "    </tr>\n",
       "    <tr>\n",
       "      <th>134974</th>\n",
       "      <td>134975</td>\n",
       "      <td>0.104681</td>\n",
       "      <td>0.169231</td>\n",
       "      <td>1</td>\n",
       "      <td>0.134238</td>\n",
       "      <td>0</td>\n",
       "      <td>1</td>\n",
       "      <td>0.612573</td>\n",
       "      <td>0.353948</td>\n",
       "      <td>0.494810</td>\n",
       "      <td>1</td>\n",
       "      <td>True</td>\n",
       "      <td>False</td>\n",
       "      <td>False</td>\n",
       "    </tr>\n",
       "    <tr>\n",
       "      <th>377971</th>\n",
       "      <td>377972</td>\n",
       "      <td>0.104681</td>\n",
       "      <td>0.030769</td>\n",
       "      <td>1</td>\n",
       "      <td>0.121342</td>\n",
       "      <td>1</td>\n",
       "      <td>1</td>\n",
       "      <td>0.477991</td>\n",
       "      <td>0.353948</td>\n",
       "      <td>0.470588</td>\n",
       "      <td>0</td>\n",
       "      <td>True</td>\n",
       "      <td>False</td>\n",
       "      <td>False</td>\n",
       "    </tr>\n",
       "    <tr>\n",
       "      <th>98078</th>\n",
       "      <td>98079</td>\n",
       "      <td>0.104681</td>\n",
       "      <td>0.430769</td>\n",
       "      <td>1</td>\n",
       "      <td>0.074677</td>\n",
       "      <td>1</td>\n",
       "      <td>0</td>\n",
       "      <td>0.243457</td>\n",
       "      <td>0.000840</td>\n",
       "      <td>0.141869</td>\n",
       "      <td>0</td>\n",
       "      <td>False</td>\n",
       "      <td>True</td>\n",
       "      <td>False</td>\n",
       "    </tr>\n",
       "    <tr>\n",
       "      <th>260163</th>\n",
       "      <td>260164</td>\n",
       "      <td>0.138906</td>\n",
       "      <td>0.230769</td>\n",
       "      <td>1</td>\n",
       "      <td>0.085459</td>\n",
       "      <td>0</td>\n",
       "      <td>1</td>\n",
       "      <td>0.103421</td>\n",
       "      <td>0.194331</td>\n",
       "      <td>0.923875</td>\n",
       "      <td>0</td>\n",
       "      <td>False</td>\n",
       "      <td>True</td>\n",
       "      <td>False</td>\n",
       "    </tr>\n",
       "  </tbody>\n",
       "</table>\n",
       "</div>"
      ],
      "text/plain": [
       "            id    gender       age  driving_license  region_code  \\\n",
       "183267  183268  0.138906  0.584615                1     0.121342   \n",
       "134974  134975  0.104681  0.169231                1     0.134238   \n",
       "377971  377972  0.104681  0.030769                1     0.121342   \n",
       "98078    98079  0.104681  0.430769                1     0.074677   \n",
       "260163  260164  0.138906  0.230769                1     0.085459   \n",
       "\n",
       "        previously_insured  vehicle_damage  annual_premium  \\\n",
       "183267                   0               1        0.650976   \n",
       "134974                   0               1        0.612573   \n",
       "377971                   1               1        0.477991   \n",
       "98078                    1               0        0.243457   \n",
       "260163                   0               1        0.103421   \n",
       "\n",
       "        policy_sales_channel   vintage  response  vehicle_age_below_1_year  \\\n",
       "183267              0.209150  0.622837         0                     False   \n",
       "134974              0.353948  0.494810         1                      True   \n",
       "377971              0.353948  0.470588         0                      True   \n",
       "98078               0.000840  0.141869         0                     False   \n",
       "260163              0.194331  0.923875         0                     False   \n",
       "\n",
       "        vehicle_age_between_1_2_years  vehicle_age_over_2_years  \n",
       "183267                          False                      True  \n",
       "134974                          False                     False  \n",
       "377971                          False                     False  \n",
       "98078                            True                     False  \n",
       "260163                           True                     False  "
      ]
     },
     "execution_count": 83,
     "metadata": {},
     "output_type": "execute_result"
    }
   ],
   "source": [
    "df5.head()"
   ]
  },
  {
   "cell_type": "markdown",
   "id": "37866058",
   "metadata": {},
   "source": [
    "## 5.4. Validation Preparation"
   ]
  },
  {
   "cell_type": "code",
   "execution_count": 84,
   "id": "8f0387f9",
   "metadata": {
    "ExecuteTime": {
     "end_time": "2024-08-25T18:30:46.470369Z",
     "start_time": "2024-08-25T18:30:46.221585Z"
    }
   },
   "outputs": [
    {
     "name": "stderr",
     "output_type": "stream",
     "text": [
      "/tmp/ipykernel_74973/2883961187.py:5: FutureWarning: Setting an item of incompatible dtype is deprecated and will raise in a future error of pandas. Value '[0.13846154 0.84615385 0.18461538 ... 0.50769231 0.50769231 0.87692308]' has dtype incompatible with int64, please explicitly cast to a compatible dtype first.\n",
      "  x_val.loc[:, 'age'] = mms_age.transform(x_val[['age']].values)\n",
      "/tmp/ipykernel_74973/2883961187.py:20: FutureWarning: Setting an item of incompatible dtype is deprecated and will raise in a future error of pandas. Value '[0.76470588 0.97923875 0.89965398 ... 0.35986159 0.5916955  0.33910035]' has dtype incompatible with int64, please explicitly cast to a compatible dtype first.\n",
      "  x_val.loc[:,'vintage'] = mms_vintage.transform(x_val[['vintage']].values)\n",
      "/tmp/ipykernel_74973/2883961187.py:23: FutureWarning: Downcasting object dtype arrays on .fillna, .ffill, .bfill is deprecated and will change in a future version. Call result.infer_objects(copy=False) instead. To opt-in to the future behavior, set `pd.set_option('future.no_silent_downcasting', True)`\n",
      "  x_val = x_val.fillna(0)\n"
     ]
    }
   ],
   "source": [
    "#gender\n",
    "x_val.loc[:, 'gender'] = x_val.loc[:, 'gender'].map(target_encode_gender)\n",
    "\n",
    "#age\n",
    "x_val.loc[:, 'age'] = mms_age.transform(x_val[['age']].values)\n",
    "\n",
    "#region_code\n",
    "x_val.loc[:, 'region_code'] = x_val.loc[:, 'region_code'].map(target_encode_region_code)\n",
    "\n",
    "#vehicle_age\n",
    "x_val = pd.get_dummies(x_val,prefix='vehicle_age',columns=['vehicle_age'])\n",
    "\n",
    "#annual_premium\n",
    "x_val.loc[:,'annual_premium'] = ss.transform(x_val[['annual_premium']].values)\n",
    "\n",
    "#policy_sales_channel\n",
    "x_val.loc[:, 'policy_sales_channel'] = x_val['policy_sales_channel'].map(fe_policy_sales_channel)\n",
    "\n",
    "#vintage\n",
    "x_val.loc[:,'vintage'] = mms_vintage.transform(x_val[['vintage']].values)\n",
    "\n",
    "#fillna\n",
    "x_val = x_val.fillna(0)\n"
   ]
  },
  {
   "cell_type": "markdown",
   "id": "13232594",
   "metadata": {},
   "source": [
    "# 6.0. FEATURE SELECTION"
   ]
  },
  {
   "cell_type": "markdown",
   "id": "8306b37d",
   "metadata": {},
   "source": [
    "## 6.2. Features Importancia"
   ]
  },
  {
   "cell_type": "code",
   "execution_count": 85,
   "id": "4b191c7c",
   "metadata": {
    "ExecuteTime": {
     "end_time": "2024-08-25T18:31:08.838165Z",
     "start_time": "2024-08-25T18:30:46.482377Z"
    }
   },
   "outputs": [
    {
     "data": {
      "text/html": [
       "<style>#sk-container-id-1 {\n",
       "  /* Definition of color scheme common for light and dark mode */\n",
       "  --sklearn-color-text: black;\n",
       "  --sklearn-color-line: gray;\n",
       "  /* Definition of color scheme for unfitted estimators */\n",
       "  --sklearn-color-unfitted-level-0: #fff5e6;\n",
       "  --sklearn-color-unfitted-level-1: #f6e4d2;\n",
       "  --sklearn-color-unfitted-level-2: #ffe0b3;\n",
       "  --sklearn-color-unfitted-level-3: chocolate;\n",
       "  /* Definition of color scheme for fitted estimators */\n",
       "  --sklearn-color-fitted-level-0: #f0f8ff;\n",
       "  --sklearn-color-fitted-level-1: #d4ebff;\n",
       "  --sklearn-color-fitted-level-2: #b3dbfd;\n",
       "  --sklearn-color-fitted-level-3: cornflowerblue;\n",
       "\n",
       "  /* Specific color for light theme */\n",
       "  --sklearn-color-text-on-default-background: var(--sg-text-color, var(--theme-code-foreground, var(--jp-content-font-color1, black)));\n",
       "  --sklearn-color-background: var(--sg-background-color, var(--theme-background, var(--jp-layout-color0, white)));\n",
       "  --sklearn-color-border-box: var(--sg-text-color, var(--theme-code-foreground, var(--jp-content-font-color1, black)));\n",
       "  --sklearn-color-icon: #696969;\n",
       "\n",
       "  @media (prefers-color-scheme: dark) {\n",
       "    /* Redefinition of color scheme for dark theme */\n",
       "    --sklearn-color-text-on-default-background: var(--sg-text-color, var(--theme-code-foreground, var(--jp-content-font-color1, white)));\n",
       "    --sklearn-color-background: var(--sg-background-color, var(--theme-background, var(--jp-layout-color0, #111)));\n",
       "    --sklearn-color-border-box: var(--sg-text-color, var(--theme-code-foreground, var(--jp-content-font-color1, white)));\n",
       "    --sklearn-color-icon: #878787;\n",
       "  }\n",
       "}\n",
       "\n",
       "#sk-container-id-1 {\n",
       "  color: var(--sklearn-color-text);\n",
       "}\n",
       "\n",
       "#sk-container-id-1 pre {\n",
       "  padding: 0;\n",
       "}\n",
       "\n",
       "#sk-container-id-1 input.sk-hidden--visually {\n",
       "  border: 0;\n",
       "  clip: rect(1px 1px 1px 1px);\n",
       "  clip: rect(1px, 1px, 1px, 1px);\n",
       "  height: 1px;\n",
       "  margin: -1px;\n",
       "  overflow: hidden;\n",
       "  padding: 0;\n",
       "  position: absolute;\n",
       "  width: 1px;\n",
       "}\n",
       "\n",
       "#sk-container-id-1 div.sk-dashed-wrapped {\n",
       "  border: 1px dashed var(--sklearn-color-line);\n",
       "  margin: 0 0.4em 0.5em 0.4em;\n",
       "  box-sizing: border-box;\n",
       "  padding-bottom: 0.4em;\n",
       "  background-color: var(--sklearn-color-background);\n",
       "}\n",
       "\n",
       "#sk-container-id-1 div.sk-container {\n",
       "  /* jupyter's `normalize.less` sets `[hidden] { display: none; }`\n",
       "     but bootstrap.min.css set `[hidden] { display: none !important; }`\n",
       "     so we also need the `!important` here to be able to override the\n",
       "     default hidden behavior on the sphinx rendered scikit-learn.org.\n",
       "     See: https://github.com/scikit-learn/scikit-learn/issues/21755 */\n",
       "  display: inline-block !important;\n",
       "  position: relative;\n",
       "}\n",
       "\n",
       "#sk-container-id-1 div.sk-text-repr-fallback {\n",
       "  display: none;\n",
       "}\n",
       "\n",
       "div.sk-parallel-item,\n",
       "div.sk-serial,\n",
       "div.sk-item {\n",
       "  /* draw centered vertical line to link estimators */\n",
       "  background-image: linear-gradient(var(--sklearn-color-text-on-default-background), var(--sklearn-color-text-on-default-background));\n",
       "  background-size: 2px 100%;\n",
       "  background-repeat: no-repeat;\n",
       "  background-position: center center;\n",
       "}\n",
       "\n",
       "/* Parallel-specific style estimator block */\n",
       "\n",
       "#sk-container-id-1 div.sk-parallel-item::after {\n",
       "  content: \"\";\n",
       "  width: 100%;\n",
       "  border-bottom: 2px solid var(--sklearn-color-text-on-default-background);\n",
       "  flex-grow: 1;\n",
       "}\n",
       "\n",
       "#sk-container-id-1 div.sk-parallel {\n",
       "  display: flex;\n",
       "  align-items: stretch;\n",
       "  justify-content: center;\n",
       "  background-color: var(--sklearn-color-background);\n",
       "  position: relative;\n",
       "}\n",
       "\n",
       "#sk-container-id-1 div.sk-parallel-item {\n",
       "  display: flex;\n",
       "  flex-direction: column;\n",
       "}\n",
       "\n",
       "#sk-container-id-1 div.sk-parallel-item:first-child::after {\n",
       "  align-self: flex-end;\n",
       "  width: 50%;\n",
       "}\n",
       "\n",
       "#sk-container-id-1 div.sk-parallel-item:last-child::after {\n",
       "  align-self: flex-start;\n",
       "  width: 50%;\n",
       "}\n",
       "\n",
       "#sk-container-id-1 div.sk-parallel-item:only-child::after {\n",
       "  width: 0;\n",
       "}\n",
       "\n",
       "/* Serial-specific style estimator block */\n",
       "\n",
       "#sk-container-id-1 div.sk-serial {\n",
       "  display: flex;\n",
       "  flex-direction: column;\n",
       "  align-items: center;\n",
       "  background-color: var(--sklearn-color-background);\n",
       "  padding-right: 1em;\n",
       "  padding-left: 1em;\n",
       "}\n",
       "\n",
       "\n",
       "/* Toggleable style: style used for estimator/Pipeline/ColumnTransformer box that is\n",
       "clickable and can be expanded/collapsed.\n",
       "- Pipeline and ColumnTransformer use this feature and define the default style\n",
       "- Estimators will overwrite some part of the style using the `sk-estimator` class\n",
       "*/\n",
       "\n",
       "/* Pipeline and ColumnTransformer style (default) */\n",
       "\n",
       "#sk-container-id-1 div.sk-toggleable {\n",
       "  /* Default theme specific background. It is overwritten whether we have a\n",
       "  specific estimator or a Pipeline/ColumnTransformer */\n",
       "  background-color: var(--sklearn-color-background);\n",
       "}\n",
       "\n",
       "/* Toggleable label */\n",
       "#sk-container-id-1 label.sk-toggleable__label {\n",
       "  cursor: pointer;\n",
       "  display: block;\n",
       "  width: 100%;\n",
       "  margin-bottom: 0;\n",
       "  padding: 0.5em;\n",
       "  box-sizing: border-box;\n",
       "  text-align: center;\n",
       "}\n",
       "\n",
       "#sk-container-id-1 label.sk-toggleable__label-arrow:before {\n",
       "  /* Arrow on the left of the label */\n",
       "  content: \"▸\";\n",
       "  float: left;\n",
       "  margin-right: 0.25em;\n",
       "  color: var(--sklearn-color-icon);\n",
       "}\n",
       "\n",
       "#sk-container-id-1 label.sk-toggleable__label-arrow:hover:before {\n",
       "  color: var(--sklearn-color-text);\n",
       "}\n",
       "\n",
       "/* Toggleable content - dropdown */\n",
       "\n",
       "#sk-container-id-1 div.sk-toggleable__content {\n",
       "  max-height: 0;\n",
       "  max-width: 0;\n",
       "  overflow: hidden;\n",
       "  text-align: left;\n",
       "  /* unfitted */\n",
       "  background-color: var(--sklearn-color-unfitted-level-0);\n",
       "}\n",
       "\n",
       "#sk-container-id-1 div.sk-toggleable__content.fitted {\n",
       "  /* fitted */\n",
       "  background-color: var(--sklearn-color-fitted-level-0);\n",
       "}\n",
       "\n",
       "#sk-container-id-1 div.sk-toggleable__content pre {\n",
       "  margin: 0.2em;\n",
       "  border-radius: 0.25em;\n",
       "  color: var(--sklearn-color-text);\n",
       "  /* unfitted */\n",
       "  background-color: var(--sklearn-color-unfitted-level-0);\n",
       "}\n",
       "\n",
       "#sk-container-id-1 div.sk-toggleable__content.fitted pre {\n",
       "  /* unfitted */\n",
       "  background-color: var(--sklearn-color-fitted-level-0);\n",
       "}\n",
       "\n",
       "#sk-container-id-1 input.sk-toggleable__control:checked~div.sk-toggleable__content {\n",
       "  /* Expand drop-down */\n",
       "  max-height: 200px;\n",
       "  max-width: 100%;\n",
       "  overflow: auto;\n",
       "}\n",
       "\n",
       "#sk-container-id-1 input.sk-toggleable__control:checked~label.sk-toggleable__label-arrow:before {\n",
       "  content: \"▾\";\n",
       "}\n",
       "\n",
       "/* Pipeline/ColumnTransformer-specific style */\n",
       "\n",
       "#sk-container-id-1 div.sk-label input.sk-toggleable__control:checked~label.sk-toggleable__label {\n",
       "  color: var(--sklearn-color-text);\n",
       "  background-color: var(--sklearn-color-unfitted-level-2);\n",
       "}\n",
       "\n",
       "#sk-container-id-1 div.sk-label.fitted input.sk-toggleable__control:checked~label.sk-toggleable__label {\n",
       "  background-color: var(--sklearn-color-fitted-level-2);\n",
       "}\n",
       "\n",
       "/* Estimator-specific style */\n",
       "\n",
       "/* Colorize estimator box */\n",
       "#sk-container-id-1 div.sk-estimator input.sk-toggleable__control:checked~label.sk-toggleable__label {\n",
       "  /* unfitted */\n",
       "  background-color: var(--sklearn-color-unfitted-level-2);\n",
       "}\n",
       "\n",
       "#sk-container-id-1 div.sk-estimator.fitted input.sk-toggleable__control:checked~label.sk-toggleable__label {\n",
       "  /* fitted */\n",
       "  background-color: var(--sklearn-color-fitted-level-2);\n",
       "}\n",
       "\n",
       "#sk-container-id-1 div.sk-label label.sk-toggleable__label,\n",
       "#sk-container-id-1 div.sk-label label {\n",
       "  /* The background is the default theme color */\n",
       "  color: var(--sklearn-color-text-on-default-background);\n",
       "}\n",
       "\n",
       "/* On hover, darken the color of the background */\n",
       "#sk-container-id-1 div.sk-label:hover label.sk-toggleable__label {\n",
       "  color: var(--sklearn-color-text);\n",
       "  background-color: var(--sklearn-color-unfitted-level-2);\n",
       "}\n",
       "\n",
       "/* Label box, darken color on hover, fitted */\n",
       "#sk-container-id-1 div.sk-label.fitted:hover label.sk-toggleable__label.fitted {\n",
       "  color: var(--sklearn-color-text);\n",
       "  background-color: var(--sklearn-color-fitted-level-2);\n",
       "}\n",
       "\n",
       "/* Estimator label */\n",
       "\n",
       "#sk-container-id-1 div.sk-label label {\n",
       "  font-family: monospace;\n",
       "  font-weight: bold;\n",
       "  display: inline-block;\n",
       "  line-height: 1.2em;\n",
       "}\n",
       "\n",
       "#sk-container-id-1 div.sk-label-container {\n",
       "  text-align: center;\n",
       "}\n",
       "\n",
       "/* Estimator-specific */\n",
       "#sk-container-id-1 div.sk-estimator {\n",
       "  font-family: monospace;\n",
       "  border: 1px dotted var(--sklearn-color-border-box);\n",
       "  border-radius: 0.25em;\n",
       "  box-sizing: border-box;\n",
       "  margin-bottom: 0.5em;\n",
       "  /* unfitted */\n",
       "  background-color: var(--sklearn-color-unfitted-level-0);\n",
       "}\n",
       "\n",
       "#sk-container-id-1 div.sk-estimator.fitted {\n",
       "  /* fitted */\n",
       "  background-color: var(--sklearn-color-fitted-level-0);\n",
       "}\n",
       "\n",
       "/* on hover */\n",
       "#sk-container-id-1 div.sk-estimator:hover {\n",
       "  /* unfitted */\n",
       "  background-color: var(--sklearn-color-unfitted-level-2);\n",
       "}\n",
       "\n",
       "#sk-container-id-1 div.sk-estimator.fitted:hover {\n",
       "  /* fitted */\n",
       "  background-color: var(--sklearn-color-fitted-level-2);\n",
       "}\n",
       "\n",
       "/* Specification for estimator info (e.g. \"i\" and \"?\") */\n",
       "\n",
       "/* Common style for \"i\" and \"?\" */\n",
       "\n",
       ".sk-estimator-doc-link,\n",
       "a:link.sk-estimator-doc-link,\n",
       "a:visited.sk-estimator-doc-link {\n",
       "  float: right;\n",
       "  font-size: smaller;\n",
       "  line-height: 1em;\n",
       "  font-family: monospace;\n",
       "  background-color: var(--sklearn-color-background);\n",
       "  border-radius: 1em;\n",
       "  height: 1em;\n",
       "  width: 1em;\n",
       "  text-decoration: none !important;\n",
       "  margin-left: 1ex;\n",
       "  /* unfitted */\n",
       "  border: var(--sklearn-color-unfitted-level-1) 1pt solid;\n",
       "  color: var(--sklearn-color-unfitted-level-1);\n",
       "}\n",
       "\n",
       ".sk-estimator-doc-link.fitted,\n",
       "a:link.sk-estimator-doc-link.fitted,\n",
       "a:visited.sk-estimator-doc-link.fitted {\n",
       "  /* fitted */\n",
       "  border: var(--sklearn-color-fitted-level-1) 1pt solid;\n",
       "  color: var(--sklearn-color-fitted-level-1);\n",
       "}\n",
       "\n",
       "/* On hover */\n",
       "div.sk-estimator:hover .sk-estimator-doc-link:hover,\n",
       ".sk-estimator-doc-link:hover,\n",
       "div.sk-label-container:hover .sk-estimator-doc-link:hover,\n",
       ".sk-estimator-doc-link:hover {\n",
       "  /* unfitted */\n",
       "  background-color: var(--sklearn-color-unfitted-level-3);\n",
       "  color: var(--sklearn-color-background);\n",
       "  text-decoration: none;\n",
       "}\n",
       "\n",
       "div.sk-estimator.fitted:hover .sk-estimator-doc-link.fitted:hover,\n",
       ".sk-estimator-doc-link.fitted:hover,\n",
       "div.sk-label-container:hover .sk-estimator-doc-link.fitted:hover,\n",
       ".sk-estimator-doc-link.fitted:hover {\n",
       "  /* fitted */\n",
       "  background-color: var(--sklearn-color-fitted-level-3);\n",
       "  color: var(--sklearn-color-background);\n",
       "  text-decoration: none;\n",
       "}\n",
       "\n",
       "/* Span, style for the box shown on hovering the info icon */\n",
       ".sk-estimator-doc-link span {\n",
       "  display: none;\n",
       "  z-index: 9999;\n",
       "  position: relative;\n",
       "  font-weight: normal;\n",
       "  right: .2ex;\n",
       "  padding: .5ex;\n",
       "  margin: .5ex;\n",
       "  width: min-content;\n",
       "  min-width: 20ex;\n",
       "  max-width: 50ex;\n",
       "  color: var(--sklearn-color-text);\n",
       "  box-shadow: 2pt 2pt 4pt #999;\n",
       "  /* unfitted */\n",
       "  background: var(--sklearn-color-unfitted-level-0);\n",
       "  border: .5pt solid var(--sklearn-color-unfitted-level-3);\n",
       "}\n",
       "\n",
       ".sk-estimator-doc-link.fitted span {\n",
       "  /* fitted */\n",
       "  background: var(--sklearn-color-fitted-level-0);\n",
       "  border: var(--sklearn-color-fitted-level-3);\n",
       "}\n",
       "\n",
       ".sk-estimator-doc-link:hover span {\n",
       "  display: block;\n",
       "}\n",
       "\n",
       "/* \"?\"-specific style due to the `<a>` HTML tag */\n",
       "\n",
       "#sk-container-id-1 a.estimator_doc_link {\n",
       "  float: right;\n",
       "  font-size: 1rem;\n",
       "  line-height: 1em;\n",
       "  font-family: monospace;\n",
       "  background-color: var(--sklearn-color-background);\n",
       "  border-radius: 1rem;\n",
       "  height: 1rem;\n",
       "  width: 1rem;\n",
       "  text-decoration: none;\n",
       "  /* unfitted */\n",
       "  color: var(--sklearn-color-unfitted-level-1);\n",
       "  border: var(--sklearn-color-unfitted-level-1) 1pt solid;\n",
       "}\n",
       "\n",
       "#sk-container-id-1 a.estimator_doc_link.fitted {\n",
       "  /* fitted */\n",
       "  border: var(--sklearn-color-fitted-level-1) 1pt solid;\n",
       "  color: var(--sklearn-color-fitted-level-1);\n",
       "}\n",
       "\n",
       "/* On hover */\n",
       "#sk-container-id-1 a.estimator_doc_link:hover {\n",
       "  /* unfitted */\n",
       "  background-color: var(--sklearn-color-unfitted-level-3);\n",
       "  color: var(--sklearn-color-background);\n",
       "  text-decoration: none;\n",
       "}\n",
       "\n",
       "#sk-container-id-1 a.estimator_doc_link.fitted:hover {\n",
       "  /* fitted */\n",
       "  background-color: var(--sklearn-color-fitted-level-3);\n",
       "}\n",
       "</style><div id=\"sk-container-id-1\" class=\"sk-top-container\"><div class=\"sk-text-repr-fallback\"><pre>ExtraTreesClassifier(n_estimators=250, n_jobs=-1, random_state=0)</pre><b>In a Jupyter environment, please rerun this cell to show the HTML representation or trust the notebook. <br />On GitHub, the HTML representation is unable to render, please try loading this page with nbviewer.org.</b></div><div class=\"sk-container\" hidden><div class=\"sk-item\"><div class=\"sk-estimator fitted sk-toggleable\"><input class=\"sk-toggleable__control sk-hidden--visually\" id=\"sk-estimator-id-1\" type=\"checkbox\" checked><label for=\"sk-estimator-id-1\" class=\"sk-toggleable__label fitted sk-toggleable__label-arrow fitted\">&nbsp;&nbsp;ExtraTreesClassifier<a class=\"sk-estimator-doc-link fitted\" rel=\"noreferrer\" target=\"_blank\" href=\"https://scikit-learn.org/1.5/modules/generated/sklearn.ensemble.ExtraTreesClassifier.html\">?<span>Documentation for ExtraTreesClassifier</span></a><span class=\"sk-estimator-doc-link fitted\">i<span>Fitted</span></span></label><div class=\"sk-toggleable__content fitted\"><pre>ExtraTreesClassifier(n_estimators=250, n_jobs=-1, random_state=0)</pre></div> </div></div></div></div>"
      ],
      "text/plain": [
       "ExtraTreesClassifier(n_estimators=250, n_jobs=-1, random_state=0)"
      ]
     },
     "execution_count": 85,
     "metadata": {},
     "output_type": "execute_result"
    }
   ],
   "source": [
    "# botura gerou 2 features apenas , vai ser usado esse metodo de arvore para definir as importancias\n",
    "# model definitions\n",
    "\n",
    "forest = en.ExtraTreesClassifier(n_estimators=250, random_state=0,n_jobs=-1)\n",
    "\n",
    "#data_preparation\n",
    "x_train_n = df5.drop(['id','response'],axis=1)\n",
    "y_train_n = y_train.values\n",
    "forest.fit(x_train_n,y_train_n)"
   ]
  },
  {
   "cell_type": "code",
   "execution_count": 86,
   "id": "e2ba9001",
   "metadata": {
    "ExecuteTime": {
     "end_time": "2024-08-25T18:31:10.659754Z",
     "start_time": "2024-08-25T18:31:08.889294Z"
    }
   },
   "outputs": [
    {
     "name": "stdout",
     "output_type": "stream",
     "text": [
      "Feature ranking:\n",
      "                         feature  importance\n",
      "0                        vintage    0.269568\n",
      "0                 annual_premium    0.243362\n",
      "0                            age    0.168750\n",
      "0                    region_code    0.105929\n",
      "0                 vehicle_damage    0.069103\n",
      "0           policy_sales_channel    0.059700\n",
      "0             previously_insured    0.055737\n",
      "0       vehicle_age_below_1_year    0.014260\n",
      "0  vehicle_age_between_1_2_years    0.006064\n",
      "0                         gender    0.004555\n",
      "0       vehicle_age_over_2_years    0.002494\n",
      "0                driving_license    0.000476\n"
     ]
    },
    {
     "data": {
      "image/png": "[encoded data removed]",
      "text/plain": [
       "<Figure size 640x480 with 1 Axes>"
      ]
     },
     "metadata": {},
     "output_type": "display_data"
    }
   ],
   "source": [
    "importances = forest.feature_importances_\n",
    "std = np.std([tree.feature_importances_ for tree in forest.estimators_],axis=0)\n",
    "indices = np.argsort(importances)[::-1]\n",
    "\n",
    "#Print the feature ranking\n",
    "print(\"Feature ranking:\")\n",
    "df = pd.DataFrame()\n",
    "for i,j in zip(x_train_n,forest.feature_importances_):\n",
    "    aux = pd.DataFrame({'feature':i, 'importance': j}, index=[0])\n",
    "    df = pd.concat([df,aux],axis=0)\n",
    "    \n",
    "print (df.sort_values('importance', ascending=False))\n",
    "#Plot the impurity based feature importances of the forest\n",
    "plt.figure()\n",
    "plt.title(\"Feature Importances\")\n",
    "plt.bar(range(x_train_n.shape[1]), importances[indices],color=\"r\", yerr=std[indices], align=\"center\")\n",
    "plt.xticks(range(x_train_n.shape[1]),indices)\n",
    "plt.xlim([-1,x_train_n.shape[1]])\n",
    "plt.show()"
   ]
  },
  {
   "cell_type": "code",
   "execution_count": 87,
   "id": "b19535df",
   "metadata": {
    "ExecuteTime": {
     "end_time": "2024-08-25T18:31:10.664565Z",
     "start_time": "2024-08-25T18:31:10.660891Z"
    }
   },
   "outputs": [
    {
     "data": {
      "text/plain": [
       "'\\n                        feature  importance\\n0                        vintage    0.272148\\n0                 annual_premium    0.244887\\n0                            age    0.166500\\n0                    region_code    0.105247\\n0                 vehicle_damage    0.069692\\n0           policy_sales_channel    0.060312\\n0             previously_insured    0.054688\\n\\n'"
      ]
     },
     "execution_count": 87,
     "metadata": {},
     "output_type": "execute_result"
    }
   ],
   "source": [
    "# arbitrariamente pego ate onde encontrar uma maior queda . No caso, vou ficar  com as features abaixo: \n",
    "\n",
    "\"\"\"\n",
    "                        feature  importance\n",
    "0                        vintage    0.272148\n",
    "0                 annual_premium    0.244887\n",
    "0                            age    0.166500\n",
    "0                    region_code    0.105247\n",
    "0                 vehicle_damage    0.069692\n",
    "0           policy_sales_channel    0.060312\n",
    "0             previously_insured    0.054688\n",
    "\n",
    "\"\"\"\n"
   ]
  },
  {
   "cell_type": "markdown",
   "id": "a43e489d",
   "metadata": {},
   "source": [
    "# 7.0 MACHINE LEARNING "
   ]
  },
  {
   "cell_type": "code",
   "execution_count": 88,
   "id": "16a54c0f",
   "metadata": {
    "ExecuteTime": {
     "end_time": "2024-08-25T18:31:10.890907Z",
     "start_time": "2024-08-25T18:31:10.665764Z"
    }
   },
   "outputs": [],
   "source": [
    "cols_selected = ['annual_premium','vintage','age','region_code','vehicle_damage','policy_sales_channel','previously_insured']"
   ]
  },
  {
   "cell_type": "code",
   "execution_count": 89,
   "id": "aefb6a95",
   "metadata": {
    "ExecuteTime": {
     "end_time": "2024-08-25T18:31:11.052498Z",
     "start_time": "2024-08-25T18:31:10.893553Z"
    }
   },
   "outputs": [],
   "source": [
    "x_train = df5[cols_selected]\n",
    "x_val = x_val[cols_selected]"
   ]
  },
  {
   "cell_type": "markdown",
   "id": "6cbaf193",
   "metadata": {},
   "source": [
    "## Teste de Modelos\n"
   ]
  },
  {
   "cell_type": "code",
   "execution_count": 90,
   "id": "8083b868",
   "metadata": {
    "ExecuteTime": {
     "end_time": "2024-08-25T18:31:11.194463Z",
     "start_time": "2024-08-25T18:31:11.055186Z"
    }
   },
   "outputs": [],
   "source": [
    "# O objetivo nao eh classificar os clientes e sim ordenar em um ranking da base atual os melhores candidatos para aceitarem o seguro de carro"
   ]
  },
  {
   "cell_type": "markdown",
   "id": "be750353",
   "metadata": {},
   "source": [
    "### 7.1  KNN\n"
   ]
  },
  {
   "cell_type": "code",
   "execution_count": 91,
   "id": "19443f3a",
   "metadata": {
    "ExecuteTime": {
     "end_time": "2024-08-25T18:31:16.464894Z",
     "start_time": "2024-08-25T18:31:11.197215Z"
    }
   },
   "outputs": [],
   "source": [
    "#----------------KNN-----------\n",
    "knn_model = nh.KNeighborsClassifier(n_neighbors=2)\n",
    "\n",
    "# Model training\n",
    "knn_model.fit(x_train,y_train)\n",
    "\n",
    "#model prediction - Poder de Generalizacao\n",
    "yhat_knn = knn_model.predict_proba(x_val)"
   ]
  },
  {
   "cell_type": "code",
   "execution_count": 92,
   "id": "56ebbec1",
   "metadata": {
    "ExecuteTime": {
     "end_time": "2024-08-25T18:31:16.614407Z",
     "start_time": "2024-08-25T18:31:16.466108Z"
    }
   },
   "outputs": [
    {
     "data": {
      "image/png": "[encoded data removed]",
      "text/plain": [
       "<Figure size 640x480 with 1 Axes>"
      ]
     },
     "metadata": {},
     "output_type": "display_data"
    }
   ],
   "source": [
    "#Accumulative Gain\n",
    "skplt.metrics.plot_cumulative_gain(y_val,yhat_knn);"
   ]
  },
  {
   "cell_type": "code",
   "execution_count": null,
   "id": "91534c14",
   "metadata": {},
   "outputs": [],
   "source": [
    "# o grafico acima indica que abordando 20 % das pessoas ordenadas(eixo x) eu consigo pegar \n",
    "# 50% (eixo y) das pessoas dispostas a comprar o seguro"
   ]
  },
  {
   "cell_type": "code",
   "execution_count": 96,
   "id": "4d4eab05",
   "metadata": {
    "ExecuteTime": {
     "end_time": "2024-08-25T18:43:29.436751Z",
     "start_time": "2024-08-25T18:43:23.126169Z"
    }
   },
   "outputs": [],
   "source": [
    "#--------------melhorando o KNN adicionando mais vizinhos\n",
    "#----------------KNN-----------\n",
    "knn_model = nh.KNeighborsClassifier(n_neighbors=7)\n",
    "\n",
    "# Model training\n",
    "knn_model.fit(x_train,y_train)\n",
    "\n",
    "#model prediction - Poder de Generalizacao\n",
    "yhat_knn = knn_model.predict_proba(x_val)"
   ]
  },
  {
   "cell_type": "code",
   "execution_count": 97,
   "id": "19279c49",
   "metadata": {
    "ExecuteTime": {
     "end_time": "2024-08-25T18:43:29.574619Z",
     "start_time": "2024-08-25T18:43:29.438318Z"
    }
   },
   "outputs": [
    {
     "data": {
      "image/png": "[encoded data removed]",
      "text/plain": [
       "<Figure size 640x480 with 1 Axes>"
      ]
     },
     "metadata": {},
     "output_type": "display_data"
    }
   ],
   "source": [
    "#Accumulative Gain\n",
    "skplt.metrics.plot_cumulative_gain(y_val,yhat_knn);"
   ]
  },
  {
   "cell_type": "code",
   "execution_count": 98,
   "id": "3747809c",
   "metadata": {
    "ExecuteTime": {
     "end_time": "2024-08-25T18:44:00.776410Z",
     "start_time": "2024-08-25T18:44:00.774015Z"
    }
   },
   "outputs": [],
   "source": [
    "# o grafico acima indica que abordando 40 % das pessoas ordenadas(eixo x) eu consigo pegar \n",
    "# ~85% (eixo y) das pessoas dispostas a comprar o seguro"
   ]
  },
  {
   "cell_type": "markdown",
   "id": "91c74d0c",
   "metadata": {},
   "source": [
    "### 7.2 Logistic Regression"
   ]
  },
  {
   "cell_type": "code",
   "execution_count": 100,
   "id": "a5e56536",
   "metadata": {
    "ExecuteTime": {
     "end_time": "2024-08-25T18:49:13.077133Z",
     "start_time": "2024-08-25T18:49:12.492593Z"
    }
   },
   "outputs": [
    {
     "data": {
      "image/png": "[encoded data removed]",
      "text/plain": [
       "<Figure size 640x480 with 1 Axes>"
      ]
     },
     "metadata": {},
     "output_type": "display_data"
    }
   ],
   "source": [
    "lr_model = lm.LogisticRegression(random_state=42)\n",
    "\n",
    "#model training\n",
    "lr_model.fit(x_train,y_train)\n",
    "\n",
    "#Model prediction\n",
    "yhat_lr = lr_model.predict_proba(x_val)\n",
    "\n",
    "#Accumulative Gain\n",
    "skplt.metrics.plot_cumulative_gain(y_val,yhat_lr);\n",
    "\n"
   ]
  },
  {
   "cell_type": "code",
   "execution_count": null,
   "id": "98b80ce0",
   "metadata": {},
   "outputs": [],
   "source": [
    "# o grafico acima indica que abordando 50 % da base ordenada(eixo x) eu consigo pegar \n",
    "# ~100% (eixo y) das pessoas dispostas a comprar o seguro. Msotrando que aregrasssao logistica ordena primeiro\n",
    "#quem tem interesse enquanto o KNN deixa essas pessoas mais para o final\n",
    "# Dessa forma de forma a se pensar no negocio gasta-se menos recurso da empresa para atingir o objetivo abordando \n",
    "#50% da base porem com uma acertividade maior atingindo 100% dos interesados, uma vez que esse modelo ordenou melhor que o knn.\n"
   ]
  }
 ],
 "metadata": {
  "kernelspec": {
   "display_name": "Python [conda env:pa4_env] *",
   "language": "python",
   "name": "conda-env-pa4_env-py"
  },
  "language_info": {
   "codemirror_mode": {
    "name": "ipython",
    "version": 3
   },
   "file_extension": ".py",
   "mimetype": "text/x-python",
   "name": "python",
   "nbconvert_exporter": "python",
   "pygments_lexer": "ipython3",
   "version": "3.11.7"
  }
 },
 "nbformat": 4,
 "nbformat_minor": 5
}
